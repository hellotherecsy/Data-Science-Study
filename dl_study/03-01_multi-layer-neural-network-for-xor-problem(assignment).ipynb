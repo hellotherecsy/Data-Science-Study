{
 "cells": [
  {
   "cell_type": "code",
   "execution_count": 85,
   "metadata": {
    "collapsed": true
   },
   "outputs": [],
   "source": [
    "%matplotlib inline\n",
    "import numpy as np\n",
    "import pandas as pd\n",
    "import matplotlib.pyplot as plt"
   ]
  },
  {
   "cell_type": "markdown",
   "metadata": {},
   "source": [
    "## Generate Dataset"
   ]
  },
  {
   "cell_type": "code",
   "execution_count": 86,
   "metadata": {},
   "outputs": [
    {
     "name": "stdout",
     "output_type": "stream",
     "text": [
      "(4, 3)\n"
     ]
    },
    {
     "data": {
      "text/html": [
       "<div>\n",
       "<style>\n",
       "    .dataframe thead tr:only-child th {\n",
       "        text-align: right;\n",
       "    }\n",
       "\n",
       "    .dataframe thead th {\n",
       "        text-align: left;\n",
       "    }\n",
       "\n",
       "    .dataframe tbody tr th {\n",
       "        vertical-align: top;\n",
       "    }\n",
       "</style>\n",
       "<table border=\"1\" class=\"dataframe\">\n",
       "  <thead>\n",
       "    <tr style=\"text-align: right;\">\n",
       "      <th></th>\n",
       "      <th>x1</th>\n",
       "      <th>x2</th>\n",
       "      <th>y</th>\n",
       "    </tr>\n",
       "  </thead>\n",
       "  <tbody>\n",
       "    <tr>\n",
       "      <th>0</th>\n",
       "      <td>0</td>\n",
       "      <td>0</td>\n",
       "      <td>0</td>\n",
       "    </tr>\n",
       "    <tr>\n",
       "      <th>1</th>\n",
       "      <td>1</td>\n",
       "      <td>0</td>\n",
       "      <td>0</td>\n",
       "    </tr>\n",
       "    <tr>\n",
       "      <th>2</th>\n",
       "      <td>0</td>\n",
       "      <td>1</td>\n",
       "      <td>0</td>\n",
       "    </tr>\n",
       "    <tr>\n",
       "      <th>3</th>\n",
       "      <td>1</td>\n",
       "      <td>1</td>\n",
       "      <td>1</td>\n",
       "    </tr>\n",
       "  </tbody>\n",
       "</table>\n",
       "</div>"
      ],
      "text/plain": [
       "   x1  x2  y\n",
       "0   0   0  0\n",
       "1   1   0  0\n",
       "2   0   1  0\n",
       "3   1   1  1"
      ]
     },
     "execution_count": 86,
     "metadata": {},
     "output_type": "execute_result"
    },
    {
     "data": {
      "image/png": "[encoded data removed]",
      "text/plain": [
       "<matplotlib.figure.Figure at 0x1104e8710>"
      ]
     },
     "metadata": {},
     "output_type": "display_data"
    }
   ],
   "source": [
    "and_data = [\n",
    "    {'x1': 0, 'x2': 0, 'y' : 0},\n",
    "    {'x1': 1, 'x2': 0, 'y' : 0},\n",
    "    {'x1': 0, 'x2': 1, 'y' : 0},\n",
    "    {'x1': 1, 'x2': 1, 'y' : 1},\n",
    "]\n",
    "\n",
    "and_data = pd.DataFrame.from_dict(and_data)\n",
    "\n",
    "plt.scatter(and_data['x1'], and_data['x2'], c=and_data['y'])\n",
    "\n",
    "print(and_data.shape)\n",
    "and_data.head()"
   ]
  },
  {
   "cell_type": "code",
   "execution_count": 87,
   "metadata": {},
   "outputs": [
    {
     "name": "stdout",
     "output_type": "stream",
     "text": [
      "(4, 3)\n"
     ]
    },
    {
     "data": {
      "text/html": [
       "<div>\n",
       "<style>\n",
       "    .dataframe thead tr:only-child th {\n",
       "        text-align: right;\n",
       "    }\n",
       "\n",
       "    .dataframe thead th {\n",
       "        text-align: left;\n",
       "    }\n",
       "\n",
       "    .dataframe tbody tr th {\n",
       "        vertical-align: top;\n",
       "    }\n",
       "</style>\n",
       "<table border=\"1\" class=\"dataframe\">\n",
       "  <thead>\n",
       "    <tr style=\"text-align: right;\">\n",
       "      <th></th>\n",
       "      <th>x1</th>\n",
       "      <th>x2</th>\n",
       "      <th>y</th>\n",
       "    </tr>\n",
       "  </thead>\n",
       "  <tbody>\n",
       "    <tr>\n",
       "      <th>0</th>\n",
       "      <td>0</td>\n",
       "      <td>0</td>\n",
       "      <td>0</td>\n",
       "    </tr>\n",
       "    <tr>\n",
       "      <th>1</th>\n",
       "      <td>1</td>\n",
       "      <td>0</td>\n",
       "      <td>1</td>\n",
       "    </tr>\n",
       "    <tr>\n",
       "      <th>2</th>\n",
       "      <td>0</td>\n",
       "      <td>1</td>\n",
       "      <td>1</td>\n",
       "    </tr>\n",
       "    <tr>\n",
       "      <th>3</th>\n",
       "      <td>1</td>\n",
       "      <td>1</td>\n",
       "      <td>1</td>\n",
       "    </tr>\n",
       "  </tbody>\n",
       "</table>\n",
       "</div>"
      ],
      "text/plain": [
       "   x1  x2  y\n",
       "0   0   0  0\n",
       "1   1   0  1\n",
       "2   0   1  1\n",
       "3   1   1  1"
      ]
     },
     "execution_count": 87,
     "metadata": {},
     "output_type": "execute_result"
    },
    {
     "data": {
      "image/png": "[encoded data removed]",
      "text/plain": [
       "<matplotlib.figure.Figure at 0x110523860>"
      ]
     },
     "metadata": {},
     "output_type": "display_data"
    }
   ],
   "source": [
    "or_data = [\n",
    "    {'x1': 0, 'x2': 0, 'y' : 0},\n",
    "    {'x1': 1, 'x2': 0, 'y' : 1},\n",
    "    {'x1': 0, 'x2': 1, 'y' : 1},\n",
    "    {'x1': 1, 'x2': 1, 'y' : 1},\n",
    "]\n",
    "\n",
    "or_data = pd.DataFrame.from_dict(or_data)\n",
    "\n",
    "plt.scatter(or_data['x1'], or_data['x2'], c=or_data['y'])\n",
    "\n",
    "print(or_data.shape)\n",
    "or_data.head()"
   ]
  },
  {
   "cell_type": "code",
   "execution_count": 88,
   "metadata": {},
   "outputs": [
    {
     "name": "stdout",
     "output_type": "stream",
     "text": [
      "(4, 3)\n"
     ]
    },
    {
     "data": {
      "text/html": [
       "<div>\n",
       "<style>\n",
       "    .dataframe thead tr:only-child th {\n",
       "        text-align: right;\n",
       "    }\n",
       "\n",
       "    .dataframe thead th {\n",
       "        text-align: left;\n",
       "    }\n",
       "\n",
       "    .dataframe tbody tr th {\n",
       "        vertical-align: top;\n",
       "    }\n",
       "</style>\n",
       "<table border=\"1\" class=\"dataframe\">\n",
       "  <thead>\n",
       "    <tr style=\"text-align: right;\">\n",
       "      <th></th>\n",
       "      <th>x1</th>\n",
       "      <th>x2</th>\n",
       "      <th>y</th>\n",
       "    </tr>\n",
       "  </thead>\n",
       "  <tbody>\n",
       "    <tr>\n",
       "      <th>0</th>\n",
       "      <td>0</td>\n",
       "      <td>0</td>\n",
       "      <td>0</td>\n",
       "    </tr>\n",
       "    <tr>\n",
       "      <th>1</th>\n",
       "      <td>1</td>\n",
       "      <td>0</td>\n",
       "      <td>1</td>\n",
       "    </tr>\n",
       "    <tr>\n",
       "      <th>2</th>\n",
       "      <td>0</td>\n",
       "      <td>1</td>\n",
       "      <td>1</td>\n",
       "    </tr>\n",
       "    <tr>\n",
       "      <th>3</th>\n",
       "      <td>1</td>\n",
       "      <td>1</td>\n",
       "      <td>0</td>\n",
       "    </tr>\n",
       "  </tbody>\n",
       "</table>\n",
       "</div>"
      ],
      "text/plain": [
       "   x1  x2  y\n",
       "0   0   0  0\n",
       "1   1   0  1\n",
       "2   0   1  1\n",
       "3   1   1  0"
      ]
     },
     "execution_count": 88,
     "metadata": {},
     "output_type": "execute_result"
    },
    {
     "data": {
      "image/png": "[encoded data removed]",
      "text/plain": [
       "<matplotlib.figure.Figure at 0x110645da0>"
      ]
     },
     "metadata": {},
     "output_type": "display_data"
    }
   ],
   "source": [
    "xor_data = [\n",
    "    {'x1': 0, 'x2': 0, 'y' : 0},\n",
    "    {'x1': 1, 'x2': 0, 'y' : 1},\n",
    "    {'x1': 0, 'x2': 1, 'y' : 1},\n",
    "    {'x1': 1, 'x2': 1, 'y' : 0},\n",
    "]\n",
    "\n",
    "xor_data = pd.DataFrame.from_dict(xor_data)\n",
    "\n",
    "plt.scatter(xor_data['x1'], xor_data['x2'], c=xor_data['y'])\n",
    "\n",
    "print(xor_data.shape)\n",
    "xor_data.head()"
   ]
  },
  {
   "cell_type": "markdown",
   "metadata": {},
   "source": [
    "### Define Sigmoid"
   ]
  },
  {
   "cell_type": "code",
   "execution_count": 89,
   "metadata": {
    "collapsed": true
   },
   "outputs": [],
   "source": [
    "def sigmoid(n):\n",
    "    return 1 / (1 + np.exp(-n))"
   ]
  },
  {
   "cell_type": "code",
   "execution_count": 90,
   "metadata": {},
   "outputs": [
    {
     "data": {
      "text/plain": [
       "[<matplotlib.lines.Line2D at 0x1107d13c8>]"
      ]
     },
     "execution_count": 90,
     "metadata": {},
     "output_type": "execute_result"
    },
    {
     "data": {
      "image/png": "[encoded data removed]",
      "text/plain": [
       "<matplotlib.figure.Figure at 0x11052bbe0>"
      ]
     },
     "metadata": {},
     "output_type": "display_data"
    }
   ],
   "source": [
    "xx = np.linspace(-10, 10)\n",
    "yy = sigmoid(xx)\n",
    "\n",
    "plt.plot(xx, yy)"
   ]
  },
  {
   "cell_type": "markdown",
   "metadata": {},
   "source": [
    "### Single layer Neural Network"
   ]
  },
  {
   "cell_type": "code",
   "execution_count": 91,
   "metadata": {
    "collapsed": true
   },
   "outputs": [],
   "source": [
    "def gradient_descent(X, y, num_epoch=100, learning_rate=1.0):\n",
    "    num_features = X.shape[1]\n",
    "\n",
    "    w = np.random.uniform(low=-1.0, high=1.0, size=num_features)\n",
    "    b = np.random.uniform(low=-1.0, high=1.0)\n",
    "\n",
    "    for epoch in range(num_epoch):\n",
    "        y_predict = X.dot(w) + b\n",
    "        y_predict = sigmoid(y_predict)\n",
    "\n",
    "        predict = y_predict >= 0.5\n",
    "        accuracy = (predict == y).mean()\n",
    "\n",
    "        print(\"{0} accuracy = {1:.5f}\".format(epoch, accuracy))\n",
    "\n",
    "        if accuracy == 1.00:\n",
    "            break\n",
    "\n",
    "        w = w - learning_rate * (y_predict - y).dot(X)\n",
    "        b = b - learning_rate * (y_predict - y).mean()\n",
    "\n",
    "    return w, b, accuracy"
   ]
  },
  {
   "cell_type": "markdown",
   "metadata": {},
   "source": [
    "### And Data"
   ]
  },
  {
   "cell_type": "code",
   "execution_count": 92,
   "metadata": {},
   "outputs": [
    {
     "name": "stdout",
     "output_type": "stream",
     "text": [
      "0 accuracy = 0.50000\n",
      "1 accuracy = 0.50000\n",
      "2 accuracy = 0.75000\n",
      "3 accuracy = 1.00000\n",
      "==================================================\n",
      "Accuracy = 1.000000\n"
     ]
    }
   ],
   "source": [
    "# Write your code here!\n",
    "data = and_data.copy()\n",
    "X = data[[\"x1\", \"x2\"]].values\n",
    "y = data[\"y\"].values\n",
    "\n",
    "w,b, accuracy = gradient_descent(X,y)\n",
    "print(\"=====\" * 10)\n",
    "print(\"Accuracy = {0:.6f}\".format(accuracy))\n",
    "\n"
   ]
  },
  {
   "cell_type": "code",
   "execution_count": 93,
   "metadata": {},
   "outputs": [
    {
     "data": {
      "text/plain": [
       "[<matplotlib.lines.Line2D at 0x1107feac8>]"
      ]
     },
     "execution_count": 93,
     "metadata": {},
     "output_type": "execute_result"
    },
    {
     "data": {
      "image/png": "[encoded data removed]",
      "text/plain": [
       "<matplotlib.figure.Figure at 0x1107fea20>"
      ]
     },
     "metadata": {},
     "output_type": "display_data"
    }
   ],
   "source": [
    "xx = np.linspace(start=0.0 , stop=1.0)\n",
    "yy = -1.0 * (w[0] * xx + b / w[1])\n",
    "\n",
    "plt.scatter(data[\"x1\"], data[\"x2\" ] , c= y )\n",
    "plt.plot(xx,yy)\n"
   ]
  },
  {
   "cell_type": "markdown",
   "metadata": {},
   "source": [
    "### Or Data"
   ]
  },
  {
   "cell_type": "code",
   "execution_count": 94,
   "metadata": {},
   "outputs": [
    {
     "name": "stdout",
     "output_type": "stream",
     "text": [
      "0 accuracy = 0.25000\n",
      "1 accuracy = 1.00000\n",
      "==================================================\n",
      "Accuracy = 1.000000\n"
     ]
    }
   ],
   "source": [
    "# Write your code here!\n",
    "data = or_data.copy()\n",
    "X = data[[\"x1\", \"x2\"]].values\n",
    "y = data[\"y\"].values\n",
    "\n",
    "w,b, accuracy = gradient_descent(X,y)\n",
    "print(\"=====\" * 10)\n",
    "print(\"Accuracy = {0:.6f}\".format(accuracy))\n"
   ]
  },
  {
   "cell_type": "code",
   "execution_count": 95,
   "metadata": {},
   "outputs": [
    {
     "data": {
      "text/plain": [
       "[<matplotlib.lines.Line2D at 0x1107feeb8>]"
      ]
     },
     "execution_count": 95,
     "metadata": {},
     "output_type": "execute_result"
    },
    {
     "data": {
      "image/png": "[encoded data removed]",
      "text/plain": [
       "<matplotlib.figure.Figure at 0x1107fecf8>"
      ]
     },
     "metadata": {},
     "output_type": "display_data"
    }
   ],
   "source": [
    "xx = np.linspace(start=0.0 , stop=1.0)\n",
    "yy = -1.0 * (w[0] * xx + b / w[1])\n",
    "\n",
    "plt.scatter(data[\"x1\"], data[\"x2\" ] , c= y )\n",
    "plt.plot(xx,yy)"
   ]
  },
  {
   "cell_type": "markdown",
   "metadata": {},
   "source": [
    "### XOR Data"
   ]
  },
  {
   "cell_type": "code",
   "execution_count": 96,
   "metadata": {},
   "outputs": [
    {
     "name": "stdout",
     "output_type": "stream",
     "text": [
      "0 accuracy = 0.50000\n",
      "1 accuracy = 0.50000\n",
      "2 accuracy = 0.50000\n",
      "3 accuracy = 0.50000\n",
      "4 accuracy = 0.50000\n",
      "5 accuracy = 0.50000\n",
      "6 accuracy = 0.50000\n",
      "7 accuracy = 0.50000\n",
      "8 accuracy = 0.75000\n",
      "9 accuracy = 0.75000\n",
      "10 accuracy = 0.75000\n",
      "11 accuracy = 0.75000\n",
      "12 accuracy = 0.75000\n",
      "13 accuracy = 0.75000\n",
      "14 accuracy = 0.75000\n",
      "15 accuracy = 0.75000\n",
      "16 accuracy = 0.75000\n",
      "17 accuracy = 0.75000\n",
      "18 accuracy = 0.75000\n",
      "19 accuracy = 0.75000\n",
      "20 accuracy = 0.75000\n",
      "21 accuracy = 0.75000\n",
      "22 accuracy = 0.75000\n",
      "23 accuracy = 0.75000\n",
      "24 accuracy = 0.75000\n",
      "25 accuracy = 0.75000\n",
      "26 accuracy = 0.75000\n",
      "27 accuracy = 0.75000\n",
      "28 accuracy = 0.75000\n",
      "29 accuracy = 0.75000\n",
      "30 accuracy = 0.75000\n",
      "31 accuracy = 0.75000\n",
      "32 accuracy = 0.75000\n",
      "33 accuracy = 0.75000\n",
      "34 accuracy = 0.75000\n",
      "35 accuracy = 0.75000\n",
      "36 accuracy = 0.75000\n",
      "37 accuracy = 0.75000\n",
      "38 accuracy = 0.75000\n",
      "39 accuracy = 0.75000\n",
      "40 accuracy = 0.75000\n",
      "41 accuracy = 0.75000\n",
      "42 accuracy = 0.75000\n",
      "43 accuracy = 0.75000\n",
      "44 accuracy = 0.75000\n",
      "45 accuracy = 0.75000\n",
      "46 accuracy = 0.75000\n",
      "47 accuracy = 0.75000\n",
      "48 accuracy = 0.75000\n",
      "49 accuracy = 0.75000\n",
      "50 accuracy = 0.75000\n",
      "51 accuracy = 0.75000\n",
      "52 accuracy = 0.75000\n",
      "53 accuracy = 0.75000\n",
      "54 accuracy = 0.75000\n",
      "55 accuracy = 0.75000\n",
      "56 accuracy = 0.75000\n",
      "57 accuracy = 0.75000\n",
      "58 accuracy = 0.75000\n",
      "59 accuracy = 0.75000\n",
      "60 accuracy = 0.75000\n",
      "61 accuracy = 0.75000\n",
      "62 accuracy = 0.75000\n",
      "63 accuracy = 0.75000\n",
      "64 accuracy = 0.75000\n",
      "65 accuracy = 0.75000\n",
      "66 accuracy = 0.75000\n",
      "67 accuracy = 0.75000\n",
      "68 accuracy = 0.75000\n",
      "69 accuracy = 0.75000\n",
      "70 accuracy = 0.75000\n",
      "71 accuracy = 0.75000\n",
      "72 accuracy = 0.75000\n",
      "73 accuracy = 0.75000\n",
      "74 accuracy = 0.75000\n",
      "75 accuracy = 0.75000\n",
      "76 accuracy = 0.75000\n",
      "77 accuracy = 0.75000\n",
      "78 accuracy = 0.75000\n",
      "79 accuracy = 0.75000\n",
      "80 accuracy = 0.75000\n",
      "81 accuracy = 0.75000\n",
      "82 accuracy = 0.75000\n",
      "83 accuracy = 0.75000\n",
      "84 accuracy = 0.75000\n",
      "85 accuracy = 0.75000\n",
      "86 accuracy = 0.75000\n",
      "87 accuracy = 0.75000\n",
      "88 accuracy = 0.75000\n",
      "89 accuracy = 0.75000\n",
      "90 accuracy = 0.75000\n",
      "91 accuracy = 0.75000\n",
      "92 accuracy = 0.75000\n",
      "93 accuracy = 0.75000\n",
      "94 accuracy = 0.75000\n",
      "95 accuracy = 0.75000\n",
      "96 accuracy = 0.75000\n",
      "97 accuracy = 0.75000\n",
      "98 accuracy = 0.75000\n",
      "99 accuracy = 0.75000\n",
      "==================================================\n",
      "Accuracy = 0.750000\n"
     ]
    }
   ],
   "source": [
    "# Write your code here!\n",
    "\n",
    "data = xor_data.copy()\n",
    "X = data[[\"x1\", \"x2\"]].values\n",
    "y = data[\"y\"].values\n",
    "\n",
    "w,b, accuracy = gradient_descent(X,y)\n",
    "print(\"=====\" * 10)\n",
    "print(\"Accuracy = {0:.6f}\".format(accuracy))\n",
    "\n",
    "\n",
    "\n",
    "\n"
   ]
  },
  {
   "cell_type": "code",
   "execution_count": 97,
   "metadata": {},
   "outputs": [
    {
     "data": {
      "text/plain": [
       "[<matplotlib.lines.Line2D at 0x1107fec88>]"
      ]
     },
     "execution_count": 97,
     "metadata": {},
     "output_type": "execute_result"
    },
    {
     "data": {
      "image/png": "[encoded data removed]",
      "text/plain": [
       "<matplotlib.figure.Figure at 0x1108c2a90>"
      ]
     },
     "metadata": {},
     "output_type": "display_data"
    }
   ],
   "source": [
    "xx = np.linspace(start=0.0 , stop=1.0)\n",
    "yy = -1.0 * (w[0] * xx + b / w[1])\n",
    "\n",
    "plt.scatter(data[\"x1\"], data[\"x2\" ] , c= y )\n",
    "plt.plot(xx,yy)"
   ]
  },
  {
   "cell_type": "markdown",
   "metadata": {},
   "source": [
    "### XOR data (transformed)"
   ]
  },
  {
   "cell_type": "code",
   "execution_count": 98,
   "metadata": {},
   "outputs": [
    {
     "name": "stdout",
     "output_type": "stream",
     "text": [
      "0 accuracy = 0.25000\n",
      "1 accuracy = 0.50000\n",
      "2 accuracy = 0.50000\n",
      "3 accuracy = 0.50000\n",
      "4 accuracy = 1.00000\n",
      "==================================================\n",
      "Accuracy = 1.000000\n"
     ]
    }
   ],
   "source": [
    "data = xor_data.copy()\n",
    "\n",
    "x1 = data[\"x1\"].values\n",
    "x2 = data[\"x2\"].values\n",
    "y  = data[\"y\"].values\n",
    "\n",
    "\n",
    "\n",
    "x1_flipped = ( x1 == 0 ).astype(int)\n",
    "x2_flipped = ( x2 == 0 ).astype(int)\n",
    "\n",
    "\n",
    "new_x1 = x1_flipped & x2\n",
    "new_x2 = x1         & x2_flipped\n",
    "\n",
    "new_xor_data = pd.DataFrame( {'x1' : new_x1 ,'x2' : new_x2, 'y': y })\n",
    "\n",
    "new_xor_data\n",
    "\n",
    "\n",
    "data = new_xor_data.copy()\n",
    "X = data[[\"x1\", \"x2\"]].values\n",
    "y = data[\"y\"].values\n",
    "\n",
    "w,b, accuracy = gradient_descent(X,y)\n",
    "print(\"=====\" * 10)\n",
    "print(\"Accuracy = {0:.6f}\".format(accuracy))\n",
    "\n"
   ]
  },
  {
   "cell_type": "code",
   "execution_count": 99,
   "metadata": {},
   "outputs": [
    {
     "data": {
      "text/plain": [
       "[<matplotlib.lines.Line2D at 0x11093a160>]"
      ]
     },
     "execution_count": 99,
     "metadata": {},
     "output_type": "execute_result"
    },
    {
     "data": {
      "image/png": "[encoded data removed]",
      "text/plain": [
       "<matplotlib.figure.Figure at 0x11093a668>"
      ]
     },
     "metadata": {},
     "output_type": "display_data"
    }
   ],
   "source": [
    "xx = np.linspace(start=0.0 , stop=1.0)\n",
    "yy = -1.0 * (w[0] * xx + b / w[1])\n",
    "\n",
    "plt.scatter(data[\"x1\"], data[\"x2\" ] , c= y )\n",
    "plt.plot(xx,yy)"
   ]
  },
  {
   "cell_type": "markdown",
   "metadata": {},
   "source": [
    "### XOR data (Polynomial)"
   ]
  },
  {
   "cell_type": "code",
   "execution_count": 108,
   "metadata": {},
   "outputs": [
    {
     "data": {
      "text/html": [
       "<div>\n",
       "<style>\n",
       "    .dataframe thead tr:only-child th {\n",
       "        text-align: right;\n",
       "    }\n",
       "\n",
       "    .dataframe thead th {\n",
       "        text-align: left;\n",
       "    }\n",
       "\n",
       "    .dataframe tbody tr th {\n",
       "        vertical-align: top;\n",
       "    }\n",
       "</style>\n",
       "<table border=\"1\" class=\"dataframe\">\n",
       "  <thead>\n",
       "    <tr style=\"text-align: right;\">\n",
       "      <th></th>\n",
       "      <th>x1</th>\n",
       "      <th>x2</th>\n",
       "      <th>x3</th>\n",
       "      <th>x4</th>\n",
       "      <th>x5</th>\n",
       "      <th>y</th>\n",
       "    </tr>\n",
       "  </thead>\n",
       "  <tbody>\n",
       "    <tr>\n",
       "      <th>0</th>\n",
       "      <td>0</td>\n",
       "      <td>0</td>\n",
       "      <td>0</td>\n",
       "      <td>0</td>\n",
       "      <td>0</td>\n",
       "      <td>0</td>\n",
       "    </tr>\n",
       "    <tr>\n",
       "      <th>1</th>\n",
       "      <td>1</td>\n",
       "      <td>0</td>\n",
       "      <td>1</td>\n",
       "      <td>0</td>\n",
       "      <td>0</td>\n",
       "      <td>1</td>\n",
       "    </tr>\n",
       "    <tr>\n",
       "      <th>2</th>\n",
       "      <td>0</td>\n",
       "      <td>1</td>\n",
       "      <td>0</td>\n",
       "      <td>0</td>\n",
       "      <td>1</td>\n",
       "      <td>1</td>\n",
       "    </tr>\n",
       "    <tr>\n",
       "      <th>3</th>\n",
       "      <td>1</td>\n",
       "      <td>1</td>\n",
       "      <td>1</td>\n",
       "      <td>1</td>\n",
       "      <td>1</td>\n",
       "      <td>0</td>\n",
       "    </tr>\n",
       "  </tbody>\n",
       "</table>\n",
       "</div>"
      ],
      "text/plain": [
       "   x1  x2  x3  x4  x5  y\n",
       "0   0   0   0   0   0  0\n",
       "1   1   0   1   0   0  1\n",
       "2   0   1   0   0   1  1\n",
       "3   1   1   1   1   1  0"
      ]
     },
     "execution_count": 108,
     "metadata": {},
     "output_type": "execute_result"
    }
   ],
   "source": [
    "# Write your code here!\n",
    "data = xor_data.copy()\n",
    "\n",
    "x1 = data[\"x1\"].values\n",
    "x2 = data[\"x2\"].values\n",
    "\n",
    "x3 = x1 * x1\n",
    "x4 = x1 * x2\n",
    "x5 = x2 * x2\n",
    "\n",
    "polynomial_xor_data = {\n",
    "    'x1' : x1 ,'x2' : x2 ,'x3' : x3,'x4' : x4,'x5' : x5, 'y' : data['y']\n",
    "}\n",
    "\n",
    "polynomial_xor_data = pd.DataFrame(polynomial_xor_data)\n",
    "polynomial_xor_data\n",
    "\n",
    "\n"
   ]
  },
  {
   "cell_type": "code",
   "execution_count": 111,
   "metadata": {},
   "outputs": [
    {
     "name": "stdout",
     "output_type": "stream",
     "text": [
      "0 accuracy = 0.75000\n",
      "1 accuracy = 0.75000\n",
      "2 accuracy = 1.00000\n",
      "==================================================\n",
      "Accuracy = 1.000000\n"
     ]
    }
   ],
   "source": [
    "data = polynomial_xor_data.copy()\n",
    "\n",
    "X = data[[\"x1\", \"x2\",\"x3\",\"x4\",\"x5\"]].values\n",
    "y = data[\"y\"].values\n",
    "\n",
    "w,b, accuracy = gradient_descent(X,y)\n",
    "print(\"=====\" * 10)\n",
    "print(\"Accuracy = {0:.6f}\".format(accuracy))\n"
   ]
  },
  {
   "cell_type": "markdown",
   "metadata": {},
   "source": [
    "### Multi-layer Neural Network"
   ]
  },
  {
   "cell_type": "code",
   "execution_count": 116,
   "metadata": {},
   "outputs": [
    {
     "data": {
      "text/plain": [
       "(array([[0, 0],\n",
       "        [1, 0],\n",
       "        [0, 1],\n",
       "        [1, 1]]), array([[0],\n",
       "        [1],\n",
       "        [1],\n",
       "        [0]]))"
      ]
     },
     "execution_count": 116,
     "metadata": {},
     "output_type": "execute_result"
    }
   ],
   "source": [
    "data = xor_data.copy()\n",
    "\n",
    "X = data[[\"x1\", \"x2\"]].values\n",
    "y = data[\"y\"].values\n",
    "y = y.reshape(4,1)\n",
    "\n",
    "X,y"
   ]
  },
  {
   "cell_type": "code",
   "execution_count": 132,
   "metadata": {},
   "outputs": [
    {
     "name": "stdout",
     "output_type": "stream",
     "text": [
      " 0 accuracy = 0.50000\n",
      "10 accuracy = 0.25000\n",
      "20 accuracy = 0.50000\n",
      "30 accuracy = 0.50000\n",
      "40 accuracy = 0.50000\n",
      "50 accuracy = 0.50000\n",
      "60 accuracy = 0.50000\n",
      "70 accuracy = 0.50000\n",
      "80 accuracy = 0.50000\n",
      "90 accuracy = 0.50000\n",
      "100 accuracy = 0.50000\n",
      "110 accuracy = 0.50000\n",
      "120 accuracy = 0.75000\n",
      "130 accuracy = 0.75000\n",
      "140 accuracy = 0.75000\n",
      "150 accuracy = 0.75000\n",
      "160 accuracy = 0.75000\n",
      "170 accuracy = 0.75000\n",
      "180 accuracy = 0.75000\n",
      "190 accuracy = 0.75000\n",
      "200 accuracy = 0.75000\n",
      "210 accuracy = 0.75000\n",
      "220 accuracy = 0.75000\n",
      "230 accuracy = 0.75000\n",
      "240 accuracy = 0.75000\n",
      "250 accuracy = 0.75000\n",
      "260 accuracy = 0.75000\n",
      "270 accuracy = 0.75000\n",
      "280 accuracy = 0.75000\n",
      "290 accuracy = 0.75000\n",
      "300 accuracy = 0.75000\n",
      "310 accuracy = 0.75000\n",
      "320 accuracy = 0.75000\n",
      "330 accuracy = 0.75000\n",
      "340 accuracy = 0.75000\n",
      "350 accuracy = 0.75000\n",
      "360 accuracy = 0.75000\n",
      "370 accuracy = 0.75000\n",
      "--------------------------------------------------\n",
      "379 accuracy = 1.00000\n"
     ]
    }
   ],
   "source": [
    "num_epoch = 600\n",
    "learning_rate = 1.0\n",
    "\n",
    "w1  = np.random.uniform(low = -1.0 , high = 1.0, size=(2,3))\n",
    "b1  = np.random.uniform(low = -1.0 , high = 1.0, size=(1,3))\n",
    "\n",
    "w2  = np.random.uniform(low = -1.0 , high = 1.0, size=(3,1))\n",
    "b2  = np.random.uniform(low = -1.0 , high = 1.0, size=(1,1))\n",
    "\n",
    "## forward Propagation \n",
    "z1 = X.dot(w1) + b1 \n",
    "a1 = sigmoid(z1)\n",
    "\n",
    "## back Propagation \n",
    "\n",
    "for epoch in range (num_epoch):\n",
    "    ##print(epoch)\n",
    "    ## forward Propagation \n",
    "    \n",
    "    z1 = X.dot(w1) + b1 \n",
    "    a1 = sigmoid(z1)\n",
    "    \n",
    "    z2 = a1.dot(w2) + b2\n",
    "    a2 = sigmoid(z2)\n",
    "    \n",
    "    y_predict = a2 \n",
    "    \n",
    "    predict = (y_predict >= 0.5).astype(int) \n",
    "    accuracy = (predict == y ).mean()\n",
    "    \n",
    "    if accuracy == 1.0:\n",
    "        break\n",
    "    \n",
    "    if epoch % 10 == 0 :\n",
    "        print (\"{0:2} accuracy = {1:.5f}\".format(epoch , accuracy))\n",
    "        \n",
    "    # Back Propagation \n",
    "    \n",
    "    d2 = a2 - y \n",
    "    d1 = d2.dot(w2.T) * a2 * (1 - a1 )\n",
    "    \n",
    "    w2 = w2 - learning_rate * a2.T.dot(d2)\n",
    "    w1 = w1 - learning_rate * X.T.dot(d1)\n",
    "    \n",
    "    b2 = b2 - learning_rate * d2.mean(axis=0)\n",
    "    b1 = b1 - learning_rate * d1.mean(axis=0)\n",
    "    \n",
    "print(\"-----\" * 10)\n",
    "print(\"{0:2} accuracy = {1:.5f}\".format(epoch,accuracy ))\n",
    "\n"
   ]
  },
  {
   "cell_type": "code",
   "execution_count": null,
   "metadata": {
    "collapsed": true
   },
   "outputs": [],
   "source": []
  },
  {
   "cell_type": "code",
   "execution_count": null,
   "metadata": {
    "collapsed": true
   },
   "outputs": [],
   "source": []
  },
  {
   "cell_type": "code",
   "execution_count": null,
   "metadata": {
    "collapsed": true
   },
   "outputs": [],
   "source": []
  },
  {
   "cell_type": "code",
   "execution_count": null,
   "metadata": {
    "collapsed": true
   },
   "outputs": [],
   "source": []
  },
  {
   "cell_type": "code",
   "execution_count": null,
   "metadata": {
    "collapsed": true
   },
   "outputs": [],
   "source": []
  },
  {
   "cell_type": "code",
   "execution_count": null,
   "metadata": {
    "collapsed": true
   },
   "outputs": [],
   "source": []
  },
  {
   "cell_type": "code",
   "execution_count": null,
   "metadata": {
    "collapsed": true
   },
   "outputs": [],
   "source": []
  }
 ],
 "metadata": {
  "kernelspec": {
   "display_name": "Python 3",
   "language": "python",
   "name": "python3"
  },
  "language_info": {
   "codemirror_mode": {
    "name": "ipython",
    "version": 3
   },
   "file_extension": ".py",
   "mimetype": "text/x-python",
   "name": "python",
   "nbconvert_exporter": "python",
   "pygments_lexer": "ipython3",
   "version": "3.6.3"
  }
 },
 "nbformat": 4,
 "nbformat_minor": 2
}
