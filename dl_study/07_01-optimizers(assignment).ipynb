{
 "cells": [
  {
   "cell_type": "code",
   "execution_count": 1,
   "metadata": {
    "collapsed": true
   },
   "outputs": [],
   "source": [
    "%matplotlib inline\n",
    "import numpy as np\n",
    "import pandas as pd\n",
    "import matplotlib.pyplot as plt"
   ]
  },
  {
   "cell_type": "markdown",
   "metadata": {},
   "source": [
    "## Load Dataset"
   ]
  },
  {
   "cell_type": "code",
   "execution_count": 2,
   "metadata": {
    "collapsed": true
   },
   "outputs": [],
   "source": [
    "from sklearn.datasets import load_digits\n",
    "\n",
    "digits = load_digits()"
   ]
  },
  {
   "cell_type": "code",
   "execution_count": 3,
   "metadata": {},
   "outputs": [
    {
     "name": "stdout",
     "output_type": "stream",
     "text": [
      "(1797, 64)\n"
     ]
    },
    {
     "data": {
      "text/plain": [
       "array([[  0.,   0.,   5., ...,   0.,   0.,   0.],\n",
       "       [  0.,   0.,   0., ...,  10.,   0.,   0.],\n",
       "       [  0.,   0.,   0., ...,  16.,   9.,   0.],\n",
       "       ..., \n",
       "       [  0.,   0.,   1., ...,   6.,   0.,   0.],\n",
       "       [  0.,   0.,   2., ...,  12.,   0.,   0.],\n",
       "       [  0.,   0.,  10., ...,  12.,   1.,   0.]])"
      ]
     },
     "execution_count": 3,
     "metadata": {},
     "output_type": "execute_result"
    }
   ],
   "source": [
    "X = digits[\"data\"]\n",
    "\n",
    "print(X.shape)\n",
    "X"
   ]
  },
  {
   "cell_type": "markdown",
   "metadata": {},
   "source": [
    "### Visualize"
   ]
  },
  {
   "cell_type": "code",
   "execution_count": 4,
   "metadata": {},
   "outputs": [
    {
     "data": {
      "text/plain": [
       "<matplotlib.image.AxesImage at 0x1a170a9518>"
      ]
     },
     "execution_count": 4,
     "metadata": {},
     "output_type": "execute_result"
    },
    {
     "data": {
      "text/plain": [
       "<matplotlib.figure.Figure at 0x11188a550>"
      ]
     },
     "metadata": {},
     "output_type": "display_data"
    },
    {
     "data": {
      "image/png": "[encoded data removed]",
      "text/plain": [
       "<matplotlib.figure.Figure at 0x115c91c18>"
      ]
     },
     "metadata": {},
     "output_type": "display_data"
    }
   ],
   "source": [
    "%matplotlib inline\n",
    "import matplotlib.pyplot as plt\n",
    "\n",
    "plt.gray()\n",
    "\n",
    "figure, axes = plt.subplots(nrows=2, ncols=5)\n",
    "figure.set_size_inches(18, 8)\n",
    "\n",
    "axes[0][0].matshow(X[0].reshape(8, 8))\n",
    "axes[0][1].matshow(X[1].reshape(8, 8))\n",
    "axes[0][2].matshow(X[2].reshape(8, 8))\n",
    "axes[0][3].matshow(X[3].reshape(8, 8))\n",
    "axes[0][4].matshow(X[4].reshape(8, 8))\n",
    "axes[1][0].matshow(X[5].reshape(8, 8))\n",
    "axes[1][1].matshow(X[6].reshape(8, 8))\n",
    "axes[1][2].matshow(X[7].reshape(8, 8))\n",
    "axes[1][3].matshow(X[8].reshape(8, 8))\n",
    "axes[1][4].matshow(X[9].reshape(8, 8))"
   ]
  },
  {
   "cell_type": "code",
   "execution_count": 5,
   "metadata": {},
   "outputs": [
    {
     "name": "stdout",
     "output_type": "stream",
     "text": [
      "(1797,)\n"
     ]
    },
    {
     "data": {
      "text/plain": [
       "array([0, 1, 2, ..., 8, 9, 8])"
      ]
     },
     "execution_count": 5,
     "metadata": {},
     "output_type": "execute_result"
    }
   ],
   "source": [
    "y = digits[\"target\"]\n",
    "\n",
    "print(y.shape)\n",
    "y"
   ]
  },
  {
   "cell_type": "markdown",
   "metadata": {},
   "source": [
    "## Preprocessing"
   ]
  },
  {
   "cell_type": "code",
   "execution_count": 6,
   "metadata": {},
   "outputs": [
    {
     "data": {
      "text/plain": [
       "(8.995463126623417e-17, -4.8841645798553142, 11.115835420144686)"
      ]
     },
     "execution_count": 6,
     "metadata": {},
     "output_type": "execute_result"
    }
   ],
   "source": [
    "X_mean = X.mean()\n",
    "\n",
    "X = X - X_mean\n",
    "\n",
    "X.mean(), X.min(), X.max()"
   ]
  },
  {
   "cell_type": "code",
   "execution_count": 7,
   "metadata": {},
   "outputs": [
    {
     "name": "stderr",
     "output_type": "stream",
     "text": [
      "Using TensorFlow backend.\n"
     ]
    },
    {
     "name": "stdout",
     "output_type": "stream",
     "text": [
      "(1797,) (1797, 10)\n"
     ]
    }
   ],
   "source": [
    "from keras.utils import to_categorical\n",
    "\n",
    "y_hot = to_categorical(y)\n",
    "\n",
    "print(y.shape, y_hot.shape)"
   ]
  },
  {
   "cell_type": "markdown",
   "metadata": {},
   "source": [
    "## Define Activation"
   ]
  },
  {
   "cell_type": "markdown",
   "metadata": {},
   "source": [
    "### Sigmoid"
   ]
  },
  {
   "cell_type": "code",
   "execution_count": 8,
   "metadata": {},
   "outputs": [
    {
     "data": {
      "text/plain": [
       "[<matplotlib.lines.Line2D at 0x1a2be3d198>]"
      ]
     },
     "execution_count": 8,
     "metadata": {},
     "output_type": "execute_result"
    },
    {
     "data": {
      "image/png": "[encoded data removed]",
      "text/plain": [
       "<matplotlib.figure.Figure at 0x1a2bdf5ba8>"
      ]
     },
     "metadata": {},
     "output_type": "display_data"
    }
   ],
   "source": [
    "def sigmoid(n):\n",
    "    return 1 / (1 + np.exp(-n))\n",
    "\n",
    "xx = np.linspace(start=-9, stop=+9)\n",
    "yy = sigmoid(xx)\n",
    "\n",
    "plt.plot(xx, yy)"
   ]
  },
  {
   "cell_type": "code",
   "execution_count": 9,
   "metadata": {},
   "outputs": [
    {
     "data": {
      "text/plain": [
       "[<matplotlib.lines.Line2D at 0x1a2bf077f0>]"
      ]
     },
     "execution_count": 9,
     "metadata": {},
     "output_type": "execute_result"
    },
    {
     "data": {
      "image/png": "[encoded data removed]",
      "text/plain": [
       "<matplotlib.figure.Figure at 0x1a2bdf5400>"
      ]
     },
     "metadata": {},
     "output_type": "display_data"
    }
   ],
   "source": [
    "def sigmoid_derivative(n):\n",
    "    return sigmoid(n) * (1 - sigmoid(n))\n",
    "\n",
    "xx = np.linspace(start=-9, stop=+9)\n",
    "yy = sigmoid_derivative(xx)\n",
    "\n",
    "plt.plot(xx, yy)"
   ]
  },
  {
   "cell_type": "markdown",
   "metadata": {},
   "source": [
    "## Define Cross Entropy"
   ]
  },
  {
   "cell_type": "code",
   "execution_count": 10,
   "metadata": {
    "collapsed": true
   },
   "outputs": [],
   "source": [
    "def cross_entropy(actual, predict, eps=1e-15):\n",
    "    actual = np.array(actual)\n",
    "    predict = np.array(predict)\n",
    "\n",
    "    clipped_predict = np.minimum(np.maximum(predict, eps), 1 - eps)\n",
    "\n",
    "    loss = actual * np.log(clipped_predict) + (1 - actual) * np.log(1 - clipped_predict)\n",
    "    \n",
    "    return -1.0 * loss.mean()"
   ]
  },
  {
   "cell_type": "markdown",
   "metadata": {},
   "source": [
    "## Build a Model"
   ]
  },
  {
   "cell_type": "code",
   "execution_count": 11,
   "metadata": {
    "collapsed": true
   },
   "outputs": [],
   "source": [
    "from time import time\n",
    "\n",
    "def train(X, y, num_epoch, learning_rate, update_method):\n",
    "    history = []\n",
    "\n",
    "    start = time()\n",
    "\n",
    "    w1 = np.random.uniform(low=-np.sqrt(6 / (64+100)),\n",
    "                           high=+np.sqrt(6 / (64+100)),\n",
    "                           size=(64, 100))\n",
    "\n",
    "    w2 = np.random.uniform(low=-np.sqrt(6 / (100+10)),\n",
    "                           high=+np.sqrt(6 / (100+10)),\n",
    "                           size=(100, 10))\n",
    "\n",
    "    for epoch in range(num_epoch):\n",
    "        # Forward Propagation\n",
    "        z1 = X.dot(w1)\n",
    "        a1 = sigmoid(z1)\n",
    "        z2 = a1.dot(w2)\n",
    "        a2 = sigmoid(z2)\n",
    "\n",
    "        y_predict = np.argmax(a2, axis=1)\n",
    "\n",
    "        accuracy = (y_predict == y).mean()\n",
    "        loss = cross_entropy(a2, y_hot)\n",
    "\n",
    "        if epoch % (num_epoch // 10) == 0:\n",
    "            print(\"{0:3} accuracy = {1:.5f}, loss = {2:.5f}\".format(epoch, accuracy, loss))\n",
    "\n",
    "        history.append({\n",
    "            'epoch': epoch,\n",
    "            'elapsed': time() - start,\n",
    "            'accuracy': accuracy,\n",
    "            'loss': loss,\n",
    "        })\n",
    "\n",
    "        # Backpropagation\n",
    "        d2 = (a2 - y_hot)\n",
    "        d1 = d2.dot(w2.T) * sigmoid_derivative(z1)\n",
    "\n",
    "        # Weight gradients\n",
    "        dw2 = a1.T.dot(d2)\n",
    "        dw1 = X.T.dot(d1)\n",
    "\n",
    "        w1, w2 = update_method(epoch, learning_rate, w1, w2, dw1, dw2)\n",
    "\n",
    "    print(\"----\" * 10)\n",
    "    print(\"{0:3} accuracy = {1:.5f}, loss = {2:.5f}\".format(epoch, accuracy, loss))\n",
    "    \n",
    "    history = pd.DataFrame(history)\n",
    "    history = history[[\"epoch\", \"elapsed\", \"accuracy\", \"loss\"]]\n",
    "\n",
    "    return history"
   ]
  },
  {
   "cell_type": "markdown",
   "metadata": {
    "collapsed": true
   },
   "source": [
    "### Stochastic Gradient Descent"
   ]
  },
  {
   "cell_type": "code",
   "execution_count": 12,
   "metadata": {},
   "outputs": [
    {
     "name": "stdout",
     "output_type": "stream",
     "text": [
      "  0 accuracy = 0.07290, loss = 18.71459\n",
      " 10 accuracy = 0.80913, loss = 5.18005\n",
      " 20 accuracy = 0.89872, loss = 4.20281\n",
      " 30 accuracy = 0.92154, loss = 3.49037\n",
      " 40 accuracy = 0.93545, loss = 2.97547\n",
      " 50 accuracy = 0.94769, loss = 2.58988\n",
      " 60 accuracy = 0.95659, loss = 2.29141\n",
      " 70 accuracy = 0.96049, loss = 2.05322\n",
      " 80 accuracy = 0.96439, loss = 1.85896\n",
      " 90 accuracy = 0.96772, loss = 1.69799\n",
      "----------------------------------------\n",
      " 99 accuracy = 0.96995, loss = 1.57554\n"
     ]
    },
    {
     "data": {
      "text/html": [
       "<div>\n",
       "<style>\n",
       "    .dataframe thead tr:only-child th {\n",
       "        text-align: right;\n",
       "    }\n",
       "\n",
       "    .dataframe thead th {\n",
       "        text-align: left;\n",
       "    }\n",
       "\n",
       "    .dataframe tbody tr th {\n",
       "        vertical-align: top;\n",
       "    }\n",
       "</style>\n",
       "<table border=\"1\" class=\"dataframe\">\n",
       "  <thead>\n",
       "    <tr style=\"text-align: right;\">\n",
       "      <th></th>\n",
       "      <th>epoch</th>\n",
       "      <th>elapsed</th>\n",
       "      <th>accuracy</th>\n",
       "      <th>loss</th>\n",
       "    </tr>\n",
       "  </thead>\n",
       "  <tbody>\n",
       "    <tr>\n",
       "      <th>0</th>\n",
       "      <td>0</td>\n",
       "      <td>0.012342</td>\n",
       "      <td>0.072899</td>\n",
       "      <td>18.714585</td>\n",
       "    </tr>\n",
       "    <tr>\n",
       "      <th>1</th>\n",
       "      <td>1</td>\n",
       "      <td>0.025754</td>\n",
       "      <td>0.106845</td>\n",
       "      <td>5.075533</td>\n",
       "    </tr>\n",
       "    <tr>\n",
       "      <th>2</th>\n",
       "      <td>2</td>\n",
       "      <td>0.039083</td>\n",
       "      <td>0.191987</td>\n",
       "      <td>5.290811</td>\n",
       "    </tr>\n",
       "    <tr>\n",
       "      <th>3</th>\n",
       "      <td>3</td>\n",
       "      <td>0.053045</td>\n",
       "      <td>0.415136</td>\n",
       "      <td>5.535883</td>\n",
       "    </tr>\n",
       "    <tr>\n",
       "      <th>4</th>\n",
       "      <td>4</td>\n",
       "      <td>0.065357</td>\n",
       "      <td>0.559822</td>\n",
       "      <td>5.644426</td>\n",
       "    </tr>\n",
       "    <tr>\n",
       "      <th>5</th>\n",
       "      <td>5</td>\n",
       "      <td>0.077119</td>\n",
       "      <td>0.647746</td>\n",
       "      <td>5.644732</td>\n",
       "    </tr>\n",
       "    <tr>\n",
       "      <th>6</th>\n",
       "      <td>6</td>\n",
       "      <td>0.089330</td>\n",
       "      <td>0.702282</td>\n",
       "      <td>5.583802</td>\n",
       "    </tr>\n",
       "    <tr>\n",
       "      <th>7</th>\n",
       "      <td>7</td>\n",
       "      <td>0.101107</td>\n",
       "      <td>0.741235</td>\n",
       "      <td>5.494031</td>\n",
       "    </tr>\n",
       "    <tr>\n",
       "      <th>8</th>\n",
       "      <td>8</td>\n",
       "      <td>0.111757</td>\n",
       "      <td>0.776294</td>\n",
       "      <td>5.392190</td>\n",
       "    </tr>\n",
       "    <tr>\n",
       "      <th>9</th>\n",
       "      <td>9</td>\n",
       "      <td>0.123272</td>\n",
       "      <td>0.792432</td>\n",
       "      <td>5.286353</td>\n",
       "    </tr>\n",
       "  </tbody>\n",
       "</table>\n",
       "</div>"
      ],
      "text/plain": [
       "   epoch   elapsed  accuracy       loss\n",
       "0      0  0.012342  0.072899  18.714585\n",
       "1      1  0.025754  0.106845   5.075533\n",
       "2      2  0.039083  0.191987   5.290811\n",
       "3      3  0.053045  0.415136   5.535883\n",
       "4      4  0.065357  0.559822   5.644426\n",
       "5      5  0.077119  0.647746   5.644732\n",
       "6      6  0.089330  0.702282   5.583802\n",
       "7      7  0.101107  0.741235   5.494031\n",
       "8      8  0.111757  0.776294   5.392190\n",
       "9      9  0.123272  0.792432   5.286353"
      ]
     },
     "execution_count": 12,
     "metadata": {},
     "output_type": "execute_result"
    }
   ],
   "source": [
    "# Write your code here!\n",
    "\n",
    "def undated_sgd(epcho , learning_rate , w1 , w2 , dw1, dw2):\n",
    "    w2 = w2 -learning_rate * dw2\n",
    "    w1 = w1 -learning_rate * dw1\n",
    "    \n",
    "    return w1 , w2\n",
    "\n",
    "num_epoch = 100\n",
    "learning_rate = 0.0001 \n",
    "\n",
    "history_sgd  = train(X ,y ,num_epoch , learning_rate , update_method = undated_sgd ) \n",
    "\n",
    "history_sgd.head(10)\n"
   ]
  },
  {
   "cell_type": "code",
   "execution_count": 13,
   "metadata": {},
   "outputs": [
    {
     "data": {
      "text/plain": [
       "[<matplotlib.lines.Line2D at 0x1a2d389dd8>]"
      ]
     },
     "execution_count": 13,
     "metadata": {},
     "output_type": "execute_result"
    },
    {
     "data": {
      "image/png": "[encoded data removed]",
      "text/plain": [
       "<matplotlib.figure.Figure at 0x1a2bf16978>"
      ]
     },
     "metadata": {},
     "output_type": "display_data"
    }
   ],
   "source": [
    "plt.plot ( history_sgd['elapsed'] , history_sgd['accuracy'],label=\"SGD\")"
   ]
  },
  {
   "cell_type": "markdown",
   "metadata": {},
   "source": [
    "### Momentum"
   ]
  },
  {
   "cell_type": "code",
   "execution_count": 16,
   "metadata": {},
   "outputs": [
    {
     "name": "stdout",
     "output_type": "stream",
     "text": [
      "  0 accuracy = 0.08292, loss = 17.69982\n",
      " 10 accuracy = 0.67223, loss = 5.14313\n",
      " 20 accuracy = 0.90651, loss = 2.50808\n",
      " 30 accuracy = 0.95326, loss = 1.35658\n",
      " 40 accuracy = 0.96772, loss = 0.87807\n",
      " 50 accuracy = 0.97997, loss = 0.66168\n",
      " 60 accuracy = 0.98720, loss = 0.53357\n",
      " 70 accuracy = 0.98943, loss = 0.45227\n",
      " 80 accuracy = 0.99110, loss = 0.39396\n",
      " 90 accuracy = 0.99332, loss = 0.34909\n",
      "----------------------------------------\n",
      " 99 accuracy = 0.99610, loss = 0.31713\n"
     ]
    },
    {
     "data": {
      "text/html": [
       "<div>\n",
       "<style>\n",
       "    .dataframe thead tr:only-child th {\n",
       "        text-align: right;\n",
       "    }\n",
       "\n",
       "    .dataframe thead th {\n",
       "        text-align: left;\n",
       "    }\n",
       "\n",
       "    .dataframe tbody tr th {\n",
       "        vertical-align: top;\n",
       "    }\n",
       "</style>\n",
       "<table border=\"1\" class=\"dataframe\">\n",
       "  <thead>\n",
       "    <tr style=\"text-align: right;\">\n",
       "      <th></th>\n",
       "      <th>epoch</th>\n",
       "      <th>elapsed</th>\n",
       "      <th>accuracy</th>\n",
       "      <th>loss</th>\n",
       "    </tr>\n",
       "  </thead>\n",
       "  <tbody>\n",
       "    <tr>\n",
       "      <th>0</th>\n",
       "      <td>0</td>\n",
       "      <td>0.005155</td>\n",
       "      <td>0.082916</td>\n",
       "      <td>17.699823</td>\n",
       "    </tr>\n",
       "    <tr>\n",
       "      <th>1</th>\n",
       "      <td>1</td>\n",
       "      <td>0.015492</td>\n",
       "      <td>0.107401</td>\n",
       "      <td>4.978397</td>\n",
       "    </tr>\n",
       "    <tr>\n",
       "      <th>2</th>\n",
       "      <td>2</td>\n",
       "      <td>0.026690</td>\n",
       "      <td>0.100723</td>\n",
       "      <td>3.842094</td>\n",
       "    </tr>\n",
       "    <tr>\n",
       "      <th>3</th>\n",
       "      <td>3</td>\n",
       "      <td>0.038454</td>\n",
       "      <td>0.129104</td>\n",
       "      <td>3.712285</td>\n",
       "    </tr>\n",
       "    <tr>\n",
       "      <th>4</th>\n",
       "      <td>4</td>\n",
       "      <td>0.051279</td>\n",
       "      <td>0.217028</td>\n",
       "      <td>3.825756</td>\n",
       "    </tr>\n",
       "    <tr>\n",
       "      <th>5</th>\n",
       "      <td>5</td>\n",
       "      <td>0.061396</td>\n",
       "      <td>0.377295</td>\n",
       "      <td>4.350273</td>\n",
       "    </tr>\n",
       "    <tr>\n",
       "      <th>6</th>\n",
       "      <td>6</td>\n",
       "      <td>0.072394</td>\n",
       "      <td>0.426822</td>\n",
       "      <td>5.582401</td>\n",
       "    </tr>\n",
       "    <tr>\n",
       "      <th>7</th>\n",
       "      <td>7</td>\n",
       "      <td>0.083203</td>\n",
       "      <td>0.541458</td>\n",
       "      <td>6.626858</td>\n",
       "    </tr>\n",
       "    <tr>\n",
       "      <th>8</th>\n",
       "      <td>8</td>\n",
       "      <td>0.093713</td>\n",
       "      <td>0.676127</td>\n",
       "      <td>6.665302</td>\n",
       "    </tr>\n",
       "    <tr>\n",
       "      <th>9</th>\n",
       "      <td>9</td>\n",
       "      <td>0.104221</td>\n",
       "      <td>0.750696</td>\n",
       "      <td>5.993456</td>\n",
       "    </tr>\n",
       "  </tbody>\n",
       "</table>\n",
       "</div>"
      ],
      "text/plain": [
       "   epoch   elapsed  accuracy       loss\n",
       "0      0  0.005155  0.082916  17.699823\n",
       "1      1  0.015492  0.107401   4.978397\n",
       "2      2  0.026690  0.100723   3.842094\n",
       "3      3  0.038454  0.129104   3.712285\n",
       "4      4  0.051279  0.217028   3.825756\n",
       "5      5  0.061396  0.377295   4.350273\n",
       "6      6  0.072394  0.426822   5.582401\n",
       "7      7  0.083203  0.541458   6.626858\n",
       "8      8  0.093713  0.676127   6.665302\n",
       "9      9  0.104221  0.750696   5.993456"
      ]
     },
     "execution_count": 16,
     "metadata": {},
     "output_type": "execute_result"
    }
   ],
   "source": [
    "# Write your code here!\n",
    "\n",
    "mu = 0.9\n",
    "cache_dw1 , cache_dw2 = 0 , 0 \n",
    "\n",
    "\n",
    "def updated_momentum(epoch , learning_rate , w1, w2, dw1 , dw2):\n",
    "    global cache_dw1 , cache_dw2\n",
    "    cache_dw2 = mu * cache_dw2 - learning_rate * dw2 \n",
    "    w2 = w2 + cache_dw2\n",
    "    \n",
    "    cache_dw1 = mu * cache_dw1 - learning_rate * dw1\n",
    "    w1 = w1 + cache_dw1\n",
    "    \n",
    "    return w1, w2\n",
    "    \n",
    "num_epoch = 100\n",
    "learning_rate = 0.0001 \n",
    "\n",
    "history_momentum  = train(X ,y ,num_epoch , learning_rate , update_method = updated_momentum ) \n",
    "history_momentum.head(10)\n"
   ]
  },
  {
   "cell_type": "code",
   "execution_count": 20,
   "metadata": {},
   "outputs": [
    {
     "data": {
      "text/plain": [
       "<matplotlib.legend.Legend at 0x110dc3780>"
      ]
     },
     "execution_count": 20,
     "metadata": {},
     "output_type": "execute_result"
    },
    {
     "data": {
      "image/png": "[encoded data removed]",
      "text/plain": [
       "<matplotlib.figure.Figure at 0x10f91fac8>"
      ]
     },
     "metadata": {},
     "output_type": "display_data"
    }
   ],
   "source": [
    "plt.plot ( history_momentum['elapsed'] , history_momentum['accuracy'] ,label=\"momentum\")\n",
    "plt.plot ( history_sgd['elapsed']      , history_sgd['accuracy']      ,label=\"SGD\")\n",
    "\n",
    "plt.legend()"
   ]
  },
  {
   "cell_type": "markdown",
   "metadata": {},
   "source": [
    "### Nesterov Momentum"
   ]
  },
  {
   "cell_type": "code",
   "execution_count": 23,
   "metadata": {},
   "outputs": [
    {
     "name": "stdout",
     "output_type": "stream",
     "text": [
      "  0 accuracy = 0.10907, loss = 16.13183\n",
      " 10 accuracy = 0.85364, loss = 4.06708\n",
      " 20 accuracy = 0.94046, loss = 1.99477\n",
      " 30 accuracy = 0.96661, loss = 1.10509\n",
      " 40 accuracy = 0.97997, loss = 0.74084\n",
      " 50 accuracy = 0.98442, loss = 0.57210\n",
      " 60 accuracy = 0.98943, loss = 0.47219\n",
      " 70 accuracy = 0.99277, loss = 0.40463\n",
      " 80 accuracy = 0.99388, loss = 0.35583\n",
      " 90 accuracy = 0.99499, loss = 0.31842\n",
      "----------------------------------------\n",
      " 99 accuracy = 0.99555, loss = 0.29166\n"
     ]
    },
    {
     "data": {
      "text/html": [
       "<div>\n",
       "<style>\n",
       "    .dataframe thead tr:only-child th {\n",
       "        text-align: right;\n",
       "    }\n",
       "\n",
       "    .dataframe thead th {\n",
       "        text-align: left;\n",
       "    }\n",
       "\n",
       "    .dataframe tbody tr th {\n",
       "        vertical-align: top;\n",
       "    }\n",
       "</style>\n",
       "<table border=\"1\" class=\"dataframe\">\n",
       "  <thead>\n",
       "    <tr style=\"text-align: right;\">\n",
       "      <th></th>\n",
       "      <th>epoch</th>\n",
       "      <th>elapsed</th>\n",
       "      <th>accuracy</th>\n",
       "      <th>loss</th>\n",
       "    </tr>\n",
       "  </thead>\n",
       "  <tbody>\n",
       "    <tr>\n",
       "      <th>0</th>\n",
       "      <td>0</td>\n",
       "      <td>0.004986</td>\n",
       "      <td>0.109071</td>\n",
       "      <td>16.131834</td>\n",
       "    </tr>\n",
       "    <tr>\n",
       "      <th>1</th>\n",
       "      <td>1</td>\n",
       "      <td>0.016684</td>\n",
       "      <td>0.099610</td>\n",
       "      <td>3.821324</td>\n",
       "    </tr>\n",
       "    <tr>\n",
       "      <th>2</th>\n",
       "      <td>2</td>\n",
       "      <td>0.028377</td>\n",
       "      <td>0.132999</td>\n",
       "      <td>3.901477</td>\n",
       "    </tr>\n",
       "    <tr>\n",
       "      <th>3</th>\n",
       "      <td>3</td>\n",
       "      <td>0.039735</td>\n",
       "      <td>0.302727</td>\n",
       "      <td>4.417661</td>\n",
       "    </tr>\n",
       "    <tr>\n",
       "      <th>4</th>\n",
       "      <td>4</td>\n",
       "      <td>0.050531</td>\n",
       "      <td>0.445186</td>\n",
       "      <td>5.076878</td>\n",
       "    </tr>\n",
       "    <tr>\n",
       "      <th>5</th>\n",
       "      <td>5</td>\n",
       "      <td>0.061197</td>\n",
       "      <td>0.488592</td>\n",
       "      <td>5.538734</td>\n",
       "    </tr>\n",
       "    <tr>\n",
       "      <th>6</th>\n",
       "      <td>6</td>\n",
       "      <td>0.072034</td>\n",
       "      <td>0.641625</td>\n",
       "      <td>5.521485</td>\n",
       "    </tr>\n",
       "    <tr>\n",
       "      <th>7</th>\n",
       "      <td>7</td>\n",
       "      <td>0.082528</td>\n",
       "      <td>0.787423</td>\n",
       "      <td>5.337518</td>\n",
       "    </tr>\n",
       "    <tr>\n",
       "      <th>8</th>\n",
       "      <td>8</td>\n",
       "      <td>0.092738</td>\n",
       "      <td>0.756817</td>\n",
       "      <td>4.986134</td>\n",
       "    </tr>\n",
       "    <tr>\n",
       "      <th>9</th>\n",
       "      <td>9</td>\n",
       "      <td>0.102976</td>\n",
       "      <td>0.791319</td>\n",
       "      <td>4.493393</td>\n",
       "    </tr>\n",
       "  </tbody>\n",
       "</table>\n",
       "</div>"
      ],
      "text/plain": [
       "   epoch   elapsed  accuracy       loss\n",
       "0      0  0.004986  0.109071  16.131834\n",
       "1      1  0.016684  0.099610   3.821324\n",
       "2      2  0.028377  0.132999   3.901477\n",
       "3      3  0.039735  0.302727   4.417661\n",
       "4      4  0.050531  0.445186   5.076878\n",
       "5      5  0.061197  0.488592   5.538734\n",
       "6      6  0.072034  0.641625   5.521485\n",
       "7      7  0.082528  0.787423   5.337518\n",
       "8      8  0.092738  0.756817   4.986134\n",
       "9      9  0.102976  0.791319   4.493393"
      ]
     },
     "execution_count": 23,
     "metadata": {},
     "output_type": "execute_result"
    }
   ],
   "source": [
    "# Write your code here!\n",
    "mu = 0.9\n",
    "cache_dw1 , cache_dw2 = 0,0\n",
    "\n",
    "def updated_nesterov(epoch , learning_rate , w1, w2, dw1 , dw2):\n",
    "    global cache_dw1 , cache_dw2\n",
    "    \n",
    "    dw2_prev = cache_dw2 \n",
    "    cache_dw2 = mu * cache_dw2 - learning_rate * dw2\n",
    "    w2 = w2 + (-mu * dw2_prev) + (1 + mu) * cache_dw2\n",
    "    \n",
    "    dw1_prev = cache_dw1 \n",
    "    cache_dw1 = mu * cache_dw1 - learning_rate * dw1\n",
    "    w1 = w1 + (-mu * dw1_prev) + (1 + mu) * cache_dw1\n",
    "    \n",
    "    return w1, w2\n",
    "    \n",
    "num_epoch = 100\n",
    "learning_rate = 0.0001 \n",
    "\n",
    "history_nesterov  = train(X ,y ,num_epoch , learning_rate , update_method = updated_nesterov ) \n",
    "history_nesterov.head(10)\n",
    "\n"
   ]
  },
  {
   "cell_type": "code",
   "execution_count": 24,
   "metadata": {},
   "outputs": [
    {
     "data": {
      "text/plain": [
       "<matplotlib.legend.Legend at 0x1137a3710>"
      ]
     },
     "execution_count": 24,
     "metadata": {},
     "output_type": "execute_result"
    },
    {
     "data": {
      "image/png": "[encoded data removed]",
      "text/plain": [
       "<matplotlib.figure.Figure at 0x110c941d0>"
      ]
     },
     "metadata": {},
     "output_type": "display_data"
    }
   ],
   "source": [
    "plt.plot ( history_momentum['elapsed'] , history_momentum['accuracy'] ,label=\"momentum\")\n",
    "plt.plot ( history_sgd['elapsed']      , history_sgd['accuracy']      ,label=\"SGD\")\n",
    "plt.plot ( history_nesterov['elapsed'] , history_nesterov['accuracy'] ,label=\"nesterov\")\n",
    "\n",
    "plt.legend()"
   ]
  },
  {
   "cell_type": "markdown",
   "metadata": {
    "collapsed": true
   },
   "source": [
    "### AdaGrad"
   ]
  },
  {
   "cell_type": "code",
   "execution_count": 27,
   "metadata": {},
   "outputs": [
    {
     "name": "stdout",
     "output_type": "stream",
     "text": [
      "  0 accuracy = 0.11185, loss = 16.36925\n",
      " 10 accuracy = 0.85253, loss = 5.30571\n",
      " 20 accuracy = 0.89316, loss = 4.45426\n",
      " 30 accuracy = 0.91541, loss = 3.93675\n",
      " 40 accuracy = 0.93322, loss = 3.55845\n",
      " 50 accuracy = 0.93767, loss = 3.26253\n",
      " 60 accuracy = 0.94713, loss = 3.02202\n",
      " 70 accuracy = 0.95103, loss = 2.81929\n",
      " 80 accuracy = 0.95548, loss = 2.64624\n",
      " 90 accuracy = 0.95938, loss = 2.49771\n",
      "----------------------------------------\n",
      " 99 accuracy = 0.96327, loss = 2.38032\n"
     ]
    },
    {
     "data": {
      "text/html": [
       "<div>\n",
       "<style>\n",
       "    .dataframe thead tr:only-child th {\n",
       "        text-align: right;\n",
       "    }\n",
       "\n",
       "    .dataframe thead th {\n",
       "        text-align: left;\n",
       "    }\n",
       "\n",
       "    .dataframe tbody tr th {\n",
       "        vertical-align: top;\n",
       "    }\n",
       "</style>\n",
       "<table border=\"1\" class=\"dataframe\">\n",
       "  <thead>\n",
       "    <tr style=\"text-align: right;\">\n",
       "      <th></th>\n",
       "      <th>epoch</th>\n",
       "      <th>elapsed</th>\n",
       "      <th>accuracy</th>\n",
       "      <th>loss</th>\n",
       "    </tr>\n",
       "  </thead>\n",
       "  <tbody>\n",
       "    <tr>\n",
       "      <th>0</th>\n",
       "      <td>0</td>\n",
       "      <td>0.004434</td>\n",
       "      <td>0.111853</td>\n",
       "      <td>16.369253</td>\n",
       "    </tr>\n",
       "    <tr>\n",
       "      <th>1</th>\n",
       "      <td>1</td>\n",
       "      <td>0.019132</td>\n",
       "      <td>0.225376</td>\n",
       "      <td>9.993444</td>\n",
       "    </tr>\n",
       "    <tr>\n",
       "      <th>2</th>\n",
       "      <td>2</td>\n",
       "      <td>0.030531</td>\n",
       "      <td>0.400111</td>\n",
       "      <td>7.988475</td>\n",
       "    </tr>\n",
       "    <tr>\n",
       "      <th>3</th>\n",
       "      <td>3</td>\n",
       "      <td>0.044888</td>\n",
       "      <td>0.539232</td>\n",
       "      <td>7.051565</td>\n",
       "    </tr>\n",
       "    <tr>\n",
       "      <th>4</th>\n",
       "      <td>4</td>\n",
       "      <td>0.060823</td>\n",
       "      <td>0.628269</td>\n",
       "      <td>6.540167</td>\n",
       "    </tr>\n",
       "    <tr>\n",
       "      <th>5</th>\n",
       "      <td>5</td>\n",
       "      <td>0.075258</td>\n",
       "      <td>0.717307</td>\n",
       "      <td>6.213677</td>\n",
       "    </tr>\n",
       "    <tr>\n",
       "      <th>6</th>\n",
       "      <td>6</td>\n",
       "      <td>0.091291</td>\n",
       "      <td>0.770173</td>\n",
       "      <td>5.957424</td>\n",
       "    </tr>\n",
       "    <tr>\n",
       "      <th>7</th>\n",
       "      <td>7</td>\n",
       "      <td>0.108238</td>\n",
       "      <td>0.809126</td>\n",
       "      <td>5.758741</td>\n",
       "    </tr>\n",
       "    <tr>\n",
       "      <th>8</th>\n",
       "      <td>8</td>\n",
       "      <td>0.123181</td>\n",
       "      <td>0.828047</td>\n",
       "      <td>5.584993</td>\n",
       "    </tr>\n",
       "    <tr>\n",
       "      <th>9</th>\n",
       "      <td>9</td>\n",
       "      <td>0.135323</td>\n",
       "      <td>0.843628</td>\n",
       "      <td>5.437003</td>\n",
       "    </tr>\n",
       "  </tbody>\n",
       "</table>\n",
       "</div>"
      ],
      "text/plain": [
       "   epoch   elapsed  accuracy       loss\n",
       "0      0  0.004434  0.111853  16.369253\n",
       "1      1  0.019132  0.225376   9.993444\n",
       "2      2  0.030531  0.400111   7.988475\n",
       "3      3  0.044888  0.539232   7.051565\n",
       "4      4  0.060823  0.628269   6.540167\n",
       "5      5  0.075258  0.717307   6.213677\n",
       "6      6  0.091291  0.770173   5.957424\n",
       "7      7  0.108238  0.809126   5.758741\n",
       "8      8  0.123181  0.828047   5.584993\n",
       "9      9  0.135323  0.843628   5.437003"
      ]
     },
     "execution_count": 27,
     "metadata": {},
     "output_type": "execute_result"
    }
   ],
   "source": [
    "# Write your code here!\n",
    "\n",
    "eps = 0.0000000001\n",
    "cache_dw1 , cache_dw2 = 0 , 0 \n",
    "\n",
    "def updated_adagrad(epoch , learning_rate , w1, w2, dw1 , dw2):\n",
    "    global cache_dw1 , cache_dw2\n",
    "    \n",
    "    cache_dw2 = cache_dw2 + dw2 ** 2 \n",
    "    w2 = w2 - learning_rate * dw2 / np.sqrt(cache_dw2 + eps )\n",
    "    \n",
    "    cache_dw1 = cache_dw1 + dw1 ** 2 \n",
    "    w1 = w1 - learning_rate * dw1 / np.sqrt(cache_dw1 + eps )\n",
    "\n",
    "    return w1 , w2 \n",
    "\n",
    "num_epoch = 100\n",
    "learning_rate = 0.01\n",
    "\n",
    "history_adagrad  = train(X ,y ,num_epoch , learning_rate , update_method = updated_adagrad ) \n",
    "history_adagrad.head(10)\n",
    "\n"
   ]
  },
  {
   "cell_type": "code",
   "execution_count": 28,
   "metadata": {},
   "outputs": [
    {
     "data": {
      "text/plain": [
       "<matplotlib.legend.Legend at 0x1a2d474ac8>"
      ]
     },
     "execution_count": 28,
     "metadata": {},
     "output_type": "execute_result"
    },
    {
     "data": {
      "image/png": "[encoded data removed]",
      "text/plain": [
       "<matplotlib.figure.Figure at 0x1a2d91a470>"
      ]
     },
     "metadata": {},
     "output_type": "display_data"
    }
   ],
   "source": [
    "plt.plot ( history_momentum['elapsed'] , history_momentum['accuracy'] ,label=\"momentum\")\n",
    "plt.plot ( history_sgd['elapsed']      , history_sgd['accuracy']      ,label=\"SGD\")\n",
    "plt.plot ( history_nesterov['elapsed'] , history_nesterov['accuracy'] ,label=\"nesterov\")\n",
    "plt.plot ( history_adagrad['elapsed'] , history_adagrad['accuracy'] ,label=\"adagrad\")\n",
    "\n",
    "\n",
    "plt.legend()"
   ]
  },
  {
   "cell_type": "markdown",
   "metadata": {},
   "source": [
    "### RMSProp"
   ]
  },
  {
   "cell_type": "code",
   "execution_count": 37,
   "metadata": {},
   "outputs": [
    {
     "name": "stdout",
     "output_type": "stream",
     "text": [
      "  0 accuracy = 0.06121, loss = 19.46935\n",
      " 10 accuracy = 0.89928, loss = 4.23575\n",
      " 20 accuracy = 0.95548, loss = 3.04555\n",
      " 30 accuracy = 0.96828, loss = 2.39514\n",
      " 40 accuracy = 0.97663, loss = 1.97234\n",
      " 50 accuracy = 0.97830, loss = 1.68589\n",
      " 60 accuracy = 0.98275, loss = 1.47589\n",
      " 70 accuracy = 0.98442, loss = 1.31399\n",
      " 80 accuracy = 0.98776, loss = 1.18428\n",
      " 90 accuracy = 0.98998, loss = 1.07700\n",
      "----------------------------------------\n",
      " 99 accuracy = 0.99054, loss = 0.99218\n"
     ]
    },
    {
     "data": {
      "text/html": [
       "<div>\n",
       "<style>\n",
       "    .dataframe thead tr:only-child th {\n",
       "        text-align: right;\n",
       "    }\n",
       "\n",
       "    .dataframe thead th {\n",
       "        text-align: left;\n",
       "    }\n",
       "\n",
       "    .dataframe tbody tr th {\n",
       "        vertical-align: top;\n",
       "    }\n",
       "</style>\n",
       "<table border=\"1\" class=\"dataframe\">\n",
       "  <thead>\n",
       "    <tr style=\"text-align: right;\">\n",
       "      <th></th>\n",
       "      <th>epoch</th>\n",
       "      <th>elapsed</th>\n",
       "      <th>accuracy</th>\n",
       "      <th>loss</th>\n",
       "    </tr>\n",
       "  </thead>\n",
       "  <tbody>\n",
       "    <tr>\n",
       "      <th>0</th>\n",
       "      <td>0</td>\n",
       "      <td>0.004645</td>\n",
       "      <td>0.061213</td>\n",
       "      <td>19.469351</td>\n",
       "    </tr>\n",
       "    <tr>\n",
       "      <th>1</th>\n",
       "      <td>1</td>\n",
       "      <td>0.016678</td>\n",
       "      <td>0.154146</td>\n",
       "      <td>5.014298</td>\n",
       "    </tr>\n",
       "    <tr>\n",
       "      <th>2</th>\n",
       "      <td>2</td>\n",
       "      <td>0.027707</td>\n",
       "      <td>0.380078</td>\n",
       "      <td>5.452210</td>\n",
       "    </tr>\n",
       "    <tr>\n",
       "      <th>3</th>\n",
       "      <td>3</td>\n",
       "      <td>0.038444</td>\n",
       "      <td>0.644964</td>\n",
       "      <td>5.227609</td>\n",
       "    </tr>\n",
       "    <tr>\n",
       "      <th>4</th>\n",
       "      <td>4</td>\n",
       "      <td>0.049478</td>\n",
       "      <td>0.804674</td>\n",
       "      <td>5.162506</td>\n",
       "    </tr>\n",
       "    <tr>\n",
       "      <th>5</th>\n",
       "      <td>5</td>\n",
       "      <td>0.060581</td>\n",
       "      <td>0.815248</td>\n",
       "      <td>5.082201</td>\n",
       "    </tr>\n",
       "    <tr>\n",
       "      <th>6</th>\n",
       "      <td>6</td>\n",
       "      <td>0.072447</td>\n",
       "      <td>0.864775</td>\n",
       "      <td>4.899828</td>\n",
       "    </tr>\n",
       "    <tr>\n",
       "      <th>7</th>\n",
       "      <td>7</td>\n",
       "      <td>0.085839</td>\n",
       "      <td>0.850306</td>\n",
       "      <td>4.801935</td>\n",
       "    </tr>\n",
       "    <tr>\n",
       "      <th>8</th>\n",
       "      <td>8</td>\n",
       "      <td>0.096803</td>\n",
       "      <td>0.873678</td>\n",
       "      <td>4.538994</td>\n",
       "    </tr>\n",
       "    <tr>\n",
       "      <th>9</th>\n",
       "      <td>9</td>\n",
       "      <td>0.108452</td>\n",
       "      <td>0.889260</td>\n",
       "      <td>4.448674</td>\n",
       "    </tr>\n",
       "  </tbody>\n",
       "</table>\n",
       "</div>"
      ],
      "text/plain": [
       "   epoch   elapsed  accuracy       loss\n",
       "0      0  0.004645  0.061213  19.469351\n",
       "1      1  0.016678  0.154146   5.014298\n",
       "2      2  0.027707  0.380078   5.452210\n",
       "3      3  0.038444  0.644964   5.227609\n",
       "4      4  0.049478  0.804674   5.162506\n",
       "5      5  0.060581  0.815248   5.082201\n",
       "6      6  0.072447  0.864775   4.899828\n",
       "7      7  0.085839  0.850306   4.801935\n",
       "8      8  0.096803  0.873678   4.538994\n",
       "9      9  0.108452  0.889260   4.448674"
      ]
     },
     "execution_count": 37,
     "metadata": {},
     "output_type": "execute_result"
    }
   ],
   "source": [
    "# Write your code here!\n",
    "\n",
    "\n",
    "eps = 0.000000001\n",
    "decay = 0.995 \n",
    "cache_dw1 , cache_dw2 = 0 , 0 \n",
    "\n",
    "def updated_rmsprop(epoch , learning_rate , w1, w2, dw1 , dw2):\n",
    "    global cache_dw1 , cache_dw2\n",
    "    \n",
    "    cache_dw2 = decay * cache_dw2 + (1 - decay ) * dw2 ** 2\n",
    "    w2 = w2 - learning_rate * dw2 / np.sqrt(cache_dw2 + eps)\n",
    "    \n",
    "    cache_dw1 = decay * cache_dw1 + (1 - decay ) * dw1 ** 2\n",
    "    w1 = w1 - learning_rate * dw1 / np.sqrt(cache_dw1 + eps)\n",
    "    \n",
    "\n",
    "    return w1 , w2 \n",
    "\n",
    "num_epoch = 100\n",
    "learning_rate = 0.003\n",
    "\n",
    "history_rmsprop  = train(X ,y ,num_epoch , learning_rate , update_method = updated_rmsprop ) \n",
    "history_rmsprop.head(10)\n",
    "\n"
   ]
  },
  {
   "cell_type": "code",
   "execution_count": 38,
   "metadata": {},
   "outputs": [
    {
     "data": {
      "text/plain": [
       "<matplotlib.legend.Legend at 0x1a2e02fcf8>"
      ]
     },
     "execution_count": 38,
     "metadata": {},
     "output_type": "execute_result"
    },
    {
     "data": {
      "image/png": "[encoded data removed]",
      "text/plain": [
       "<matplotlib.figure.Figure at 0x1a2e0f2550>"
      ]
     },
     "metadata": {},
     "output_type": "display_data"
    }
   ],
   "source": [
    "#plt.plot ( history_momentum['elapsed'] , history_momentum['accuracy'] ,label=\"momentum\")\n",
    "plt.plot ( history_sgd['elapsed']      , history_sgd['accuracy']      ,label=\"SGD\")\n",
    "#plt.plot ( history_nesterov['elapsed'] , history_nesterov['accuracy'] ,label=\"nesterov\")\n",
    "#plt.plot ( history_adagrad['elapsed'] , history_adagrad['accuracy'] ,label=\"adagrad\")\n",
    "plt.plot ( history_rmsprop ['elapsed'] , history_rmsprop ['accuracy'] ,label=\"rmsprop\")\n",
    "\n",
    " \n",
    "\n",
    "plt.legend()"
   ]
  },
  {
   "cell_type": "markdown",
   "metadata": {},
   "source": [
    "### Adam"
   ]
  },
  {
   "cell_type": "code",
   "execution_count": 39,
   "metadata": {},
   "outputs": [
    {
     "name": "stdout",
     "output_type": "stream",
     "text": [
      "  0 accuracy = 0.01836, loss = 17.89221\n",
      " 10 accuracy = 0.33333, loss = 6.04768\n",
      " 20 accuracy = 0.74346, loss = 4.82800\n",
      " 30 accuracy = 0.83918, loss = 4.91317\n",
      " 40 accuracy = 0.89928, loss = 4.50880\n",
      " 50 accuracy = 0.92042, loss = 3.90535\n",
      " 60 accuracy = 0.93712, loss = 3.43394\n",
      " 70 accuracy = 0.94880, loss = 3.00627\n",
      " 80 accuracy = 0.96160, loss = 2.64886\n",
      " 90 accuracy = 0.96550, loss = 2.35294\n",
      "----------------------------------------\n",
      " 99 accuracy = 0.96995, loss = 2.10911\n"
     ]
    },
    {
     "data": {
      "text/html": [
       "<div>\n",
       "<style>\n",
       "    .dataframe thead tr:only-child th {\n",
       "        text-align: right;\n",
       "    }\n",
       "\n",
       "    .dataframe thead th {\n",
       "        text-align: left;\n",
       "    }\n",
       "\n",
       "    .dataframe tbody tr th {\n",
       "        vertical-align: top;\n",
       "    }\n",
       "</style>\n",
       "<table border=\"1\" class=\"dataframe\">\n",
       "  <thead>\n",
       "    <tr style=\"text-align: right;\">\n",
       "      <th></th>\n",
       "      <th>epoch</th>\n",
       "      <th>elapsed</th>\n",
       "      <th>accuracy</th>\n",
       "      <th>loss</th>\n",
       "    </tr>\n",
       "  </thead>\n",
       "  <tbody>\n",
       "    <tr>\n",
       "      <th>0</th>\n",
       "      <td>0</td>\n",
       "      <td>0.004721</td>\n",
       "      <td>0.018364</td>\n",
       "      <td>17.892209</td>\n",
       "    </tr>\n",
       "    <tr>\n",
       "      <th>1</th>\n",
       "      <td>1</td>\n",
       "      <td>0.014421</td>\n",
       "      <td>0.022259</td>\n",
       "      <td>16.016849</td>\n",
       "    </tr>\n",
       "    <tr>\n",
       "      <th>2</th>\n",
       "      <td>2</td>\n",
       "      <td>0.025843</td>\n",
       "      <td>0.031720</td>\n",
       "      <td>14.169192</td>\n",
       "    </tr>\n",
       "    <tr>\n",
       "      <th>3</th>\n",
       "      <td>3</td>\n",
       "      <td>0.036608</td>\n",
       "      <td>0.048414</td>\n",
       "      <td>12.450757</td>\n",
       "    </tr>\n",
       "    <tr>\n",
       "      <th>4</th>\n",
       "      <td>4</td>\n",
       "      <td>0.047783</td>\n",
       "      <td>0.068447</td>\n",
       "      <td>10.930798</td>\n",
       "    </tr>\n",
       "    <tr>\n",
       "      <th>5</th>\n",
       "      <td>5</td>\n",
       "      <td>0.061782</td>\n",
       "      <td>0.094602</td>\n",
       "      <td>9.637011</td>\n",
       "    </tr>\n",
       "    <tr>\n",
       "      <th>6</th>\n",
       "      <td>6</td>\n",
       "      <td>0.073983</td>\n",
       "      <td>0.135782</td>\n",
       "      <td>8.566533</td>\n",
       "    </tr>\n",
       "    <tr>\n",
       "      <th>7</th>\n",
       "      <td>7</td>\n",
       "      <td>0.085965</td>\n",
       "      <td>0.168058</td>\n",
       "      <td>7.699728</td>\n",
       "    </tr>\n",
       "    <tr>\n",
       "      <th>8</th>\n",
       "      <td>8</td>\n",
       "      <td>0.098387</td>\n",
       "      <td>0.216472</td>\n",
       "      <td>7.009768</td>\n",
       "    </tr>\n",
       "    <tr>\n",
       "      <th>9</th>\n",
       "      <td>9</td>\n",
       "      <td>0.109013</td>\n",
       "      <td>0.271007</td>\n",
       "      <td>6.468179</td>\n",
       "    </tr>\n",
       "  </tbody>\n",
       "</table>\n",
       "</div>"
      ],
      "text/plain": [
       "   epoch   elapsed  accuracy       loss\n",
       "0      0  0.004721  0.018364  17.892209\n",
       "1      1  0.014421  0.022259  16.016849\n",
       "2      2  0.025843  0.031720  14.169192\n",
       "3      3  0.036608  0.048414  12.450757\n",
       "4      4  0.047783  0.068447  10.930798\n",
       "5      5  0.061782  0.094602   9.637011\n",
       "6      6  0.073983  0.135782   8.566533\n",
       "7      7  0.085965  0.168058   7.699728\n",
       "8      8  0.098387  0.216472   7.009768\n",
       "9      9  0.109013  0.271007   6.468179"
      ]
     },
     "execution_count": 39,
     "metadata": {},
     "output_type": "execute_result"
    }
   ],
   "source": [
    "# Write your code here!\n",
    "\n",
    "\n",
    "eps = 0.000000001\n",
    "beta1 =0.9\n",
    "beta2 =0.99\n",
    "dw1m, dw2m = 0,0\n",
    "dw1v, dw2v = 0,0\n",
    "\n",
    "def updated_adam(epoch , learning_rate , w1, w2, dw1 , dw2):\n",
    "    global dw1m, dw2m\n",
    "    global dw1v, dw2v\n",
    "    \n",
    "    dw2m = beta1 * dw2m + (1- beta1) * dw2 \n",
    "    dw2v = beta2 * dw2v + (1- beta2) * ( dw2**2 )\n",
    "    dw2mb = dw2m / (1 - beta1 **( 1 + epoch ))\n",
    "    dw2vb = dw2v / (1 - beta2 **( 1 + epoch ))\n",
    "    w2 = w2 - learning_rate * dw2mb / np.sqrt( dw2vb + eps) \n",
    "    \n",
    "    dw1m = beta1 * dw1m + (1- beta1) * dw1 \n",
    "    dw1v = beta2 * dw1v + (1- beta2) * ( dw1**2 )\n",
    "    dw1mb = dw1m / (1 - beta1 **( 1 + epoch ))\n",
    "    dw1vb = dw1v / (1 - beta2 **( 1 + epoch ))\n",
    "    w1 = w1 - learning_rate * dw1mb / np.sqrt( dw1vb + eps)\n",
    "    \n",
    "    return w1 , w2 \n",
    "\n",
    "num_epoch = 100\n",
    "learning_rate = 0.003\n",
    "\n",
    "history_adam  = train(X ,y ,num_epoch , learning_rate , update_method = updated_adam ) \n",
    "history_adam.head(10)"
   ]
  },
  {
   "cell_type": "code",
   "execution_count": 40,
   "metadata": {},
   "outputs": [
    {
     "data": {
      "text/plain": [
       "<matplotlib.legend.Legend at 0x1a2e826dd8>"
      ]
     },
     "execution_count": 40,
     "metadata": {},
     "output_type": "execute_result"
    },
    {
     "data": {
      "image/png": "[encoded data removed]",
      "text/plain": [
       "<matplotlib.figure.Figure at 0x1a2e04c4a8>"
      ]
     },
     "metadata": {},
     "output_type": "display_data"
    }
   ],
   "source": [
    "#plt.plot ( history_momentum['elapsed'] , history_momentum['accuracy'] ,label=\"momentum\")\n",
    "plt.plot ( history_sgd['elapsed']      , history_sgd['accuracy']      ,label=\"SGD\")\n",
    "#plt.plot ( history_nesterov['elapsed'] , history_nesterov['accuracy'] ,label=\"nesterov\")\n",
    "#plt.plot ( history_adagrad['elapsed'] , history_adagrad['accuracy'] ,label=\"adagrad\")\n",
    "plt.plot ( history_rmsprop ['elapsed'] , history_rmsprop ['accuracy'] ,label=\"rmsprop\")\n",
    "plt.plot ( history_adam ['elapsed'] , history_adam ['accuracy'] ,label=\"adam\")\n",
    " \n",
    "\n",
    "plt.legend()"
   ]
  },
  {
   "cell_type": "code",
   "execution_count": null,
   "metadata": {
    "collapsed": true
   },
   "outputs": [],
   "source": []
  }
 ],
 "metadata": {
  "kernelspec": {
   "display_name": "Python 3",
   "language": "python",
   "name": "python3"
  },
  "language_info": {
   "codemirror_mode": {
    "name": "ipython",
    "version": 3
   },
   "file_extension": ".py",
   "mimetype": "text/x-python",
   "name": "python",
   "nbconvert_exporter": "python",
   "pygments_lexer": "ipython3",
   "version": "3.6.3"
  }
 },
 "nbformat": 4,
 "nbformat_minor": 2
}
