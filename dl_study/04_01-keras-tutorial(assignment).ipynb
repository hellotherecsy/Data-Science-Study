{
 "cells": [
  {
   "cell_type": "markdown",
   "metadata": {},
   "source": [
    "## Prerequisites"
   ]
  },
  {
   "cell_type": "code",
   "execution_count": 1,
   "metadata": {},
   "outputs": [
    {
     "name": "stdout",
     "output_type": "stream",
     "text": [
      "Requirement already satisfied: keras in /Users/hellothere/anaconda3/lib/python3.6/site-packages\n",
      "Requirement already satisfied: scipy>=0.14 in /Users/hellothere/anaconda3/lib/python3.6/site-packages (from keras)\n",
      "Requirement already satisfied: six>=1.9.0 in /Users/hellothere/anaconda3/lib/python3.6/site-packages (from keras)\n",
      "Requirement already satisfied: numpy>=1.9.1 in /Users/hellothere/anaconda3/lib/python3.6/site-packages (from keras)\n",
      "Requirement already satisfied: pyyaml in /Users/hellothere/anaconda3/lib/python3.6/site-packages (from keras)\n"
     ]
    }
   ],
   "source": [
    "!pip install keras"
   ]
  },
  {
   "cell_type": "code",
   "execution_count": 2,
   "metadata": {},
   "outputs": [
    {
     "name": "stderr",
     "output_type": "stream",
     "text": [
      "Using TensorFlow backend.\n"
     ]
    }
   ],
   "source": [
    "import keras\n",
    "import numpy as np\n",
    "import pandas as pd"
   ]
  },
  {
   "cell_type": "markdown",
   "metadata": {},
   "source": [
    "## Load Dataset"
   ]
  },
  {
   "cell_type": "code",
   "execution_count": 3,
   "metadata": {},
   "outputs": [
    {
     "name": "stdout",
     "output_type": "stream",
     "text": [
      "(60000, 28, 28) (60000,)\n",
      "(10000, 28, 28) (10000,)\n"
     ]
    }
   ],
   "source": [
    "from keras.datasets import mnist\n",
    "\n",
    "((X_train, y_train), (X_test, y_test)) = mnist.load_data()\n",
    " \n",
    "print(X_train.shape, y_train.shape)\n",
    "print(X_test.shape, y_test.shape)"
   ]
  },
  {
   "cell_type": "markdown",
   "metadata": {},
   "source": [
    "### Visualize"
   ]
  },
  {
   "cell_type": "code",
   "execution_count": 4,
   "metadata": {},
   "outputs": [
    {
     "name": "stdout",
     "output_type": "stream",
     "text": [
      "[5 0 4 1 9 2 1 3 1 4]\n"
     ]
    },
    {
     "data": {
      "text/plain": [
       "<matplotlib.image.AxesImage at 0x18212167b8>"
      ]
     },
     "execution_count": 4,
     "metadata": {},
     "output_type": "execute_result"
    },
    {
     "data": {
      "text/plain": [
       "<matplotlib.figure.Figure at 0x181bee21d0>"
      ]
     },
     "metadata": {},
     "output_type": "display_data"
    },
    {
     "data": {
      "image/png": "[encoded data removed]",
      "text/plain": [
       "<matplotlib.figure.Figure at 0x181bfeacf8>"
      ]
     },
     "metadata": {},
     "output_type": "display_data"
    }
   ],
   "source": [
    "%matplotlib inline\n",
    "import matplotlib.pyplot as plt\n",
    "\n",
    "plt.gray()\n",
    "\n",
    "print(y_train[0:10])\n",
    "\n",
    "figures, axes = plt.subplots(nrows=2, ncols=5)\n",
    "figures.set_size_inches(18, 8)\n",
    "\n",
    "axes[0][0].matshow(X_train[0])\n",
    "axes[0][1].matshow(X_train[1])\n",
    "axes[0][2].matshow(X_train[2])\n",
    "axes[0][3].matshow(X_train[3])\n",
    "axes[0][4].matshow(X_train[4])\n",
    "axes[1][0].matshow(X_train[5])\n",
    "axes[1][1].matshow(X_train[6])\n",
    "axes[1][2].matshow(X_train[7])\n",
    "axes[1][3].matshow(X_train[8])\n",
    "axes[1][4].matshow(X_train[9])"
   ]
  },
  {
   "cell_type": "markdown",
   "metadata": {},
   "source": [
    "## Single-layer & Multi-layer Neural Network"
   ]
  },
  {
   "cell_type": "markdown",
   "metadata": {},
   "source": [
    "### Preprocessing"
   ]
  },
  {
   "cell_type": "code",
   "execution_count": 5,
   "metadata": {},
   "outputs": [
    {
     "name": "stdout",
     "output_type": "stream",
     "text": [
      "(60000, 784) (10000, 784)\n"
     ]
    }
   ],
   "source": [
    "X_train = X_train.reshape(60000, 28 * 28)\n",
    "X_test = X_test.reshape(10000, 28 * 28)\n",
    "\n",
    "print(X_train.shape, X_test.shape)"
   ]
  },
  {
   "cell_type": "code",
   "execution_count": 6,
   "metadata": {},
   "outputs": [
    {
     "name": "stdout",
     "output_type": "stream",
     "text": [
      "(60000, 10) (10000, 10)\n"
     ]
    }
   ],
   "source": [
    "from keras.utils import to_categorical\n",
    "\n",
    "# One hot encoding을 합니다.\n",
    "# np.eye(10)[y_train]과 동일합니다.\n",
    "y_train_hot = to_categorical(y_train)\n",
    "\n",
    "# np.eye(10)[y_test]와 동일합니다.\n",
    "y_test_hot = to_categorical(y_test)\n",
    "\n",
    "print(y_train_hot.shape, y_test_hot.shape)"
   ]
  },
  {
   "cell_type": "markdown",
   "metadata": {},
   "source": [
    "### Build a Single-layer Neural Network"
   ]
  },
  {
   "cell_type": "code",
   "execution_count": 21,
   "metadata": {},
   "outputs": [
    {
     "ename": "TypeError",
     "evalue": "('Keyword argument not understood:', 'kernal_initializer')",
     "output_type": "error",
     "traceback": [
      "\u001b[0;31m---------------------------------------------------------------------------\u001b[0m",
      "\u001b[0;31mTypeError\u001b[0m                                 Traceback (most recent call last)",
      "\u001b[0;32m<ipython-input-21-e3a7484f38dc>\u001b[0m in \u001b[0;36m<module>\u001b[0;34m()\u001b[0m\n\u001b[1;32m      9\u001b[0m                 \u001b[0mkernal_initializer\u001b[0m\u001b[0;34m=\u001b[0m\u001b[0mRandomUniform\u001b[0m\u001b[0;34m(\u001b[0m\u001b[0mminval\u001b[0m\u001b[0;34m=\u001b[0m\u001b[0;36m0.0\u001b[0m\u001b[0;34m,\u001b[0m \u001b[0mmaxval\u001b[0m\u001b[0;34m=\u001b[0m\u001b[0;36m0.001\u001b[0m\u001b[0;34m)\u001b[0m\u001b[0;34m,\u001b[0m\u001b[0;34m\u001b[0m\u001b[0m\n\u001b[1;32m     10\u001b[0m                 \u001b[0mactivation\u001b[0m \u001b[0;34m=\u001b[0m\u001b[0;34m'sigmoid'\u001b[0m\u001b[0;34m,\u001b[0m\u001b[0;34m\u001b[0m\u001b[0m\n\u001b[0;32m---> 11\u001b[0;31m                 input_shape=(28*28,)))\n\u001b[0m\u001b[1;32m     12\u001b[0m \u001b[0;34m\u001b[0m\u001b[0m\n\u001b[1;32m     13\u001b[0m \u001b[0moptimizer\u001b[0m \u001b[0;34m=\u001b[0m \u001b[0mSGD\u001b[0m\u001b[0;34m(\u001b[0m\u001b[0mlr\u001b[0m\u001b[0;34m=\u001b[0m\u001b[0;36m0.00001\u001b[0m\u001b[0;34m)\u001b[0m\u001b[0;34m\u001b[0m\u001b[0m\n",
      "\u001b[0;32m~/anaconda3/lib/python3.6/site-packages/keras/legacy/interfaces.py\u001b[0m in \u001b[0;36mwrapper\u001b[0;34m(*args, **kwargs)\u001b[0m\n\u001b[1;32m     89\u001b[0m                 warnings.warn('Update your `' + object_name +\n\u001b[1;32m     90\u001b[0m                               '` call to the Keras 2 API: ' + signature, stacklevel=2)\n\u001b[0;32m---> 91\u001b[0;31m             \u001b[0;32mreturn\u001b[0m \u001b[0mfunc\u001b[0m\u001b[0;34m(\u001b[0m\u001b[0;34m*\u001b[0m\u001b[0margs\u001b[0m\u001b[0;34m,\u001b[0m \u001b[0;34m**\u001b[0m\u001b[0mkwargs\u001b[0m\u001b[0;34m)\u001b[0m\u001b[0;34m\u001b[0m\u001b[0m\n\u001b[0m\u001b[1;32m     92\u001b[0m         \u001b[0mwrapper\u001b[0m\u001b[0;34m.\u001b[0m\u001b[0m_original_function\u001b[0m \u001b[0;34m=\u001b[0m \u001b[0mfunc\u001b[0m\u001b[0;34m\u001b[0m\u001b[0m\n\u001b[1;32m     93\u001b[0m         \u001b[0;32mreturn\u001b[0m \u001b[0mwrapper\u001b[0m\u001b[0;34m\u001b[0m\u001b[0m\n",
      "\u001b[0;32m~/anaconda3/lib/python3.6/site-packages/keras/layers/core.py\u001b[0m in \u001b[0;36m__init__\u001b[0;34m(self, units, activation, use_bias, kernel_initializer, bias_initializer, kernel_regularizer, bias_regularizer, activity_regularizer, kernel_constraint, bias_constraint, **kwargs)\u001b[0m\n\u001b[1;32m    818\u001b[0m         \u001b[0;32mif\u001b[0m \u001b[0;34m'input_shape'\u001b[0m \u001b[0;32mnot\u001b[0m \u001b[0;32min\u001b[0m \u001b[0mkwargs\u001b[0m \u001b[0;32mand\u001b[0m \u001b[0;34m'input_dim'\u001b[0m \u001b[0;32min\u001b[0m \u001b[0mkwargs\u001b[0m\u001b[0;34m:\u001b[0m\u001b[0;34m\u001b[0m\u001b[0m\n\u001b[1;32m    819\u001b[0m             \u001b[0mkwargs\u001b[0m\u001b[0;34m[\u001b[0m\u001b[0;34m'input_shape'\u001b[0m\u001b[0;34m]\u001b[0m \u001b[0;34m=\u001b[0m \u001b[0;34m(\u001b[0m\u001b[0mkwargs\u001b[0m\u001b[0;34m.\u001b[0m\u001b[0mpop\u001b[0m\u001b[0;34m(\u001b[0m\u001b[0;34m'input_dim'\u001b[0m\u001b[0;34m)\u001b[0m\u001b[0;34m,\u001b[0m\u001b[0;34m)\u001b[0m\u001b[0;34m\u001b[0m\u001b[0m\n\u001b[0;32m--> 820\u001b[0;31m         \u001b[0msuper\u001b[0m\u001b[0;34m(\u001b[0m\u001b[0mDense\u001b[0m\u001b[0;34m,\u001b[0m \u001b[0mself\u001b[0m\u001b[0;34m)\u001b[0m\u001b[0;34m.\u001b[0m\u001b[0m__init__\u001b[0m\u001b[0;34m(\u001b[0m\u001b[0;34m**\u001b[0m\u001b[0mkwargs\u001b[0m\u001b[0;34m)\u001b[0m\u001b[0;34m\u001b[0m\u001b[0m\n\u001b[0m\u001b[1;32m    821\u001b[0m         \u001b[0mself\u001b[0m\u001b[0;34m.\u001b[0m\u001b[0munits\u001b[0m \u001b[0;34m=\u001b[0m \u001b[0munits\u001b[0m\u001b[0;34m\u001b[0m\u001b[0m\n\u001b[1;32m    822\u001b[0m         \u001b[0mself\u001b[0m\u001b[0;34m.\u001b[0m\u001b[0mactivation\u001b[0m \u001b[0;34m=\u001b[0m \u001b[0mactivations\u001b[0m\u001b[0;34m.\u001b[0m\u001b[0mget\u001b[0m\u001b[0;34m(\u001b[0m\u001b[0mactivation\u001b[0m\u001b[0;34m)\u001b[0m\u001b[0;34m\u001b[0m\u001b[0m\n",
      "\u001b[0;32m~/anaconda3/lib/python3.6/site-packages/keras/engine/topology.py\u001b[0m in \u001b[0;36m__init__\u001b[0;34m(self, **kwargs)\u001b[0m\n\u001b[1;32m    291\u001b[0m         \u001b[0;32mfor\u001b[0m \u001b[0mkwarg\u001b[0m \u001b[0;32min\u001b[0m \u001b[0mkwargs\u001b[0m\u001b[0;34m:\u001b[0m\u001b[0;34m\u001b[0m\u001b[0m\n\u001b[1;32m    292\u001b[0m             \u001b[0;32mif\u001b[0m \u001b[0mkwarg\u001b[0m \u001b[0;32mnot\u001b[0m \u001b[0;32min\u001b[0m \u001b[0mallowed_kwargs\u001b[0m\u001b[0;34m:\u001b[0m\u001b[0;34m\u001b[0m\u001b[0m\n\u001b[0;32m--> 293\u001b[0;31m                 \u001b[0;32mraise\u001b[0m \u001b[0mTypeError\u001b[0m\u001b[0;34m(\u001b[0m\u001b[0;34m'Keyword argument not understood:'\u001b[0m\u001b[0;34m,\u001b[0m \u001b[0mkwarg\u001b[0m\u001b[0;34m)\u001b[0m\u001b[0;34m\u001b[0m\u001b[0m\n\u001b[0m\u001b[1;32m    294\u001b[0m         \u001b[0mname\u001b[0m \u001b[0;34m=\u001b[0m \u001b[0mkwargs\u001b[0m\u001b[0;34m.\u001b[0m\u001b[0mget\u001b[0m\u001b[0;34m(\u001b[0m\u001b[0;34m'name'\u001b[0m\u001b[0;34m)\u001b[0m\u001b[0;34m\u001b[0m\u001b[0m\n\u001b[1;32m    295\u001b[0m         \u001b[0;32mif\u001b[0m \u001b[0;32mnot\u001b[0m \u001b[0mname\u001b[0m\u001b[0;34m:\u001b[0m\u001b[0;34m\u001b[0m\u001b[0m\n",
      "\u001b[0;31mTypeError\u001b[0m: ('Keyword argument not understood:', 'kernal_initializer')"
     ]
    }
   ],
   "source": [
    "# Write your code here!\n",
    "from keras.models import Sequential\n",
    "from keras.layers import Dense\n",
    "from keras.optimizers import SGD\n",
    "from keras.initializers import RandomUniform\n",
    "\n",
    "model = Sequential()\n",
    "model.add(Dense(units=10 , \n",
    "                kernal_initializer=RandomUniform(minval=0.0, maxval=0.001), \n",
    "                activation ='sigmoid',\n",
    "                input_shape=(28*28,)))\n",
    "\n",
    "optimizer = SGD(lr=0.00001)\n",
    "model.compile(optimizer = 'sgd' ,\n",
    "              loss='categorical_crossentropy')\n"
   ]
  },
  {
   "cell_type": "code",
   "execution_count": 19,
   "metadata": {},
   "outputs": [
    {
     "name": "stdout",
     "output_type": "stream",
     "text": [
      "Train on 60000 samples, validate on 10000 samples\n",
      "Epoch 1/20\n",
      "60000/60000 [==============================] - 2s 33us/step - loss: 2.3823 - val_loss: 2.2704\n",
      "Epoch 2/20\n",
      "60000/60000 [==============================] - 2s 34us/step - loss: 2.2482 - val_loss: 2.2305\n",
      "Epoch 3/20\n",
      "60000/60000 [==============================] - 2s 32us/step - loss: 2.2295 - val_loss: 2.2248\n",
      "Epoch 4/20\n",
      "60000/60000 [==============================] - 2s 32us/step - loss: 2.2334 - val_loss: 2.2329\n",
      "Epoch 5/20\n",
      "60000/60000 [==============================] - 2s 33us/step - loss: 2.2331 - val_loss: 2.2398\n",
      "Epoch 6/20\n",
      "60000/60000 [==============================] - 2s 32us/step - loss: 2.2201 - val_loss: 2.2120\n",
      "Epoch 7/20\n",
      "60000/60000 [==============================] - 2s 32us/step - loss: 2.2112 - val_loss: 2.2218\n",
      "Epoch 8/20\n",
      "60000/60000 [==============================] - 2s 32us/step - loss: 2.2131 - val_loss: 2.1921\n",
      "Epoch 9/20\n",
      "60000/60000 [==============================] - 2s 32us/step - loss: 2.1953 - val_loss: 2.2089\n",
      "Epoch 10/20\n",
      "60000/60000 [==============================] - 2s 32us/step - loss: 2.1933 - val_loss: 2.2051\n",
      "Epoch 11/20\n",
      "60000/60000 [==============================] - 2s 33us/step - loss: 2.2084 - val_loss: 2.1939\n",
      "Epoch 12/20\n",
      "60000/60000 [==============================] - 2s 32us/step - loss: 2.1852 - val_loss: 2.2089\n",
      "Epoch 13/20\n",
      "60000/60000 [==============================] - 2s 34us/step - loss: 2.1934 - val_loss: 2.1910\n",
      "Epoch 14/20\n",
      "60000/60000 [==============================] - 2s 34us/step - loss: 2.1903 - val_loss: 2.2038\n",
      "Epoch 15/20\n",
      "60000/60000 [==============================] - 2s 33us/step - loss: 2.1904 - val_loss: 2.1875\n",
      "Epoch 16/20\n",
      "60000/60000 [==============================] - 2s 33us/step - loss: 2.1907 - val_loss: 2.1940\n",
      "Epoch 17/20\n",
      "60000/60000 [==============================] - 2s 32us/step - loss: 2.1822 - val_loss: 2.2164\n",
      "Epoch 18/20\n",
      "60000/60000 [==============================] - 2s 32us/step - loss: 2.1844 - val_loss: 2.1809\n",
      "Epoch 19/20\n",
      "60000/60000 [==============================] - 2s 32us/step - loss: 2.1823 - val_loss: 2.1848\n",
      "Epoch 20/20\n",
      "60000/60000 [==============================] - 2s 33us/step - loss: 2.1824 - val_loss: 2.1849\n"
     ]
    },
    {
     "data": {
      "text/plain": [
       "<keras.callbacks.History at 0x18250a4630>"
      ]
     },
     "execution_count": 19,
     "metadata": {},
     "output_type": "execute_result"
    }
   ],
   "source": [
    "model.fit(X_train , \n",
    "         y_train_hot, \n",
    "         epochs = 20 , \n",
    "         validation_data = (X_test, y_test_hot))"
   ]
  },
  {
   "cell_type": "code",
   "execution_count": null,
   "metadata": {
    "collapsed": true
   },
   "outputs": [],
   "source": []
  },
  {
   "cell_type": "markdown",
   "metadata": {},
   "source": [
    "### Build a Multi-layer Neural Network"
   ]
  },
  {
   "cell_type": "code",
   "execution_count": 40,
   "metadata": {},
   "outputs": [
    {
     "ename": "TypeError",
     "evalue": "compile() missing 1 required positional argument: 'loss'",
     "output_type": "error",
     "traceback": [
      "\u001b[0;31m---------------------------------------------------------------------------\u001b[0m",
      "\u001b[0;31mTypeError\u001b[0m                                 Traceback (most recent call last)",
      "\u001b[0;32m<ipython-input-40-a59b205926b5>\u001b[0m in \u001b[0;36m<module>\u001b[0;34m()\u001b[0m\n\u001b[1;32m     12\u001b[0m \u001b[0;34m\u001b[0m\u001b[0m\n\u001b[1;32m     13\u001b[0m \u001b[0mmodel\u001b[0m\u001b[0;34m.\u001b[0m\u001b[0madd\u001b[0m\u001b[0;34m(\u001b[0m\u001b[0mDense\u001b[0m\u001b[0;34m(\u001b[0m\u001b[0munits\u001b[0m\u001b[0;34m=\u001b[0m\u001b[0;36m10\u001b[0m \u001b[0;34m,\u001b[0m \u001b[0mactivation\u001b[0m\u001b[0;34m=\u001b[0m\u001b[0;34m'sigmoid'\u001b[0m\u001b[0;34m)\u001b[0m\u001b[0;34m)\u001b[0m\u001b[0;34m\u001b[0m\u001b[0m\n\u001b[0;32m---> 14\u001b[0;31m \u001b[0mmodel\u001b[0m\u001b[0;34m.\u001b[0m\u001b[0mcompile\u001b[0m\u001b[0;34m(\u001b[0m\u001b[0moptimizer\u001b[0m\u001b[0;34m)\u001b[0m\u001b[0;34m\u001b[0m\u001b[0m\n\u001b[0m\u001b[1;32m     15\u001b[0m \u001b[0;34m\u001b[0m\u001b[0m\n\u001b[1;32m     16\u001b[0m \u001b[0;34m\u001b[0m\u001b[0m\n",
      "\u001b[0;31mTypeError\u001b[0m: compile() missing 1 required positional argument: 'loss'"
     ]
    }
   ],
   "source": [
    "# Write your code here!\n",
    "from keras.models import Sequential\n",
    "from keras.layers import Dense\n",
    "from keras.optimizers import SGD\n",
    "from keras.initializers import RandomUniform\n",
    "\n",
    "optimizer = SGD(lr=0.00001)\n",
    "\n",
    "model = Sequential()\n",
    "model.add(Dense(units = 1000,\n",
    "               activation='sigmoid', input_shape=(28*28,)))\n",
    "               \n",
    "model.add(Dense(units=10 , activation='sigmoid'))\n",
    "model.compile(optimizer)\n",
    "\n",
    "\n",
    "model.compile(optimizer = 'sgd' ,\n",
    "              loss='categorical_crossentropy', \n",
    "              mrtrics=['accuracy'] )\n",
    "\n",
    "\n"
   ]
  },
  {
   "cell_type": "code",
   "execution_count": 36,
   "metadata": {},
   "outputs": [
    {
     "ename": "TypeError",
     "evalue": "Unrecognized keyword arguments: {'epoch': 30}",
     "output_type": "error",
     "traceback": [
      "\u001b[0;31m---------------------------------------------------------------------------\u001b[0m",
      "\u001b[0;31mTypeError\u001b[0m                                 Traceback (most recent call last)",
      "\u001b[0;32m<ipython-input-36-d572f632f176>\u001b[0m in \u001b[0;36m<module>\u001b[0;34m()\u001b[0m\n\u001b[0;32m----> 1\u001b[0;31m \u001b[0mmodel\u001b[0m\u001b[0;34m.\u001b[0m\u001b[0mfit\u001b[0m\u001b[0;34m(\u001b[0m\u001b[0mX_train\u001b[0m \u001b[0;34m,\u001b[0m \u001b[0my_train_hot\u001b[0m \u001b[0;34m,\u001b[0m \u001b[0mepoch\u001b[0m\u001b[0;34m=\u001b[0m\u001b[0;36m30\u001b[0m\u001b[0;34m,\u001b[0m \u001b[0mvalidation_data\u001b[0m\u001b[0;34m=\u001b[0m\u001b[0;34m(\u001b[0m\u001b[0mX_test\u001b[0m\u001b[0;34m,\u001b[0m \u001b[0my_test_hot\u001b[0m\u001b[0;34m)\u001b[0m\u001b[0;34m)\u001b[0m\u001b[0;34m\u001b[0m\u001b[0m\n\u001b[0m",
      "\u001b[0;32m~/anaconda3/lib/python3.6/site-packages/keras/models.py\u001b[0m in \u001b[0;36mfit\u001b[0;34m(self, x, y, batch_size, epochs, verbose, callbacks, validation_split, validation_data, shuffle, class_weight, sample_weight, initial_epoch, steps_per_epoch, validation_steps, **kwargs)\u001b[0m\n\u001b[1;32m    944\u001b[0m             \u001b[0mepochs\u001b[0m \u001b[0;34m=\u001b[0m \u001b[0mkwargs\u001b[0m\u001b[0;34m.\u001b[0m\u001b[0mpop\u001b[0m\u001b[0;34m(\u001b[0m\u001b[0;34m'nb_epoch'\u001b[0m\u001b[0;34m)\u001b[0m\u001b[0;34m\u001b[0m\u001b[0m\n\u001b[1;32m    945\u001b[0m         \u001b[0;32mif\u001b[0m \u001b[0mkwargs\u001b[0m\u001b[0;34m:\u001b[0m\u001b[0;34m\u001b[0m\u001b[0m\n\u001b[0;32m--> 946\u001b[0;31m             \u001b[0;32mraise\u001b[0m \u001b[0mTypeError\u001b[0m\u001b[0;34m(\u001b[0m\u001b[0;34m'Unrecognized keyword arguments: '\u001b[0m \u001b[0;34m+\u001b[0m \u001b[0mstr\u001b[0m\u001b[0;34m(\u001b[0m\u001b[0mkwargs\u001b[0m\u001b[0;34m)\u001b[0m\u001b[0;34m)\u001b[0m\u001b[0;34m\u001b[0m\u001b[0m\n\u001b[0m\u001b[1;32m    947\u001b[0m \u001b[0;34m\u001b[0m\u001b[0m\n\u001b[1;32m    948\u001b[0m         \u001b[0;32mif\u001b[0m \u001b[0;32mnot\u001b[0m \u001b[0mself\u001b[0m\u001b[0;34m.\u001b[0m\u001b[0mbuilt\u001b[0m\u001b[0;34m:\u001b[0m\u001b[0;34m\u001b[0m\u001b[0m\n",
      "\u001b[0;31mTypeError\u001b[0m: Unrecognized keyword arguments: {'epoch': 30}"
     ]
    }
   ],
   "source": [
    "model.fit(X_train , y_train_hot , epochs=30, validation_data=(X_test, y_test_hot))"
   ]
  },
  {
   "cell_type": "markdown",
   "metadata": {},
   "source": [
    "## Convolutional Neural Network"
   ]
  },
  {
   "cell_type": "markdown",
   "metadata": {},
   "source": [
    "## Preprocessing"
   ]
  },
  {
   "cell_type": "code",
   "execution_count": 57,
   "metadata": {},
   "outputs": [
    {
     "name": "stdout",
     "output_type": "stream",
     "text": [
      "(60000, 28, 28, 1) (10000, 28, 28, 1)\n"
     ]
    }
   ],
   "source": [
    "X_train = X_train.reshape(60000, 28, 28, 1)\n",
    "X_test = X_test.reshape(10000, 28, 28, 1)\n",
    "\n",
    "print(X_train.shape, X_test.shape)"
   ]
  },
  {
   "cell_type": "markdown",
   "metadata": {},
   "source": [
    "## Build a Model"
   ]
  },
  {
   "cell_type": "markdown",
   "metadata": {},
   "source": [
    "### Convolutional Neural Network"
   ]
  },
  {
   "cell_type": "code",
   "execution_count": 73,
   "metadata": {},
   "outputs": [],
   "source": [
    "# Write your code here!\n",
    "\n",
    "from keras.models import Sequential \n",
    "from keras.layers import Conv2D, MaxPooling2D , Flatten , Dense\n",
    "\n",
    "model = Sequential()\n",
    "\n",
    "model.add(Conv2D(\n",
    "        filters = 6,\n",
    "        kernel_size=(5,5), \n",
    "        kernel_initializer = 'random_uniform', \n",
    "        activation='sigmoid',\n",
    "        input_shape=(28,28,1)))\n",
    "\n",
    "\n",
    "model.add(MaxPooling2D(pool_size =(2,2) , strides=(2,2)))\n",
    "\n",
    "model.add(Conv2D(\n",
    "        filters = 12,\n",
    "        kernel_size=(5,5), \n",
    "        kernel_initializer = 'random_uniform', \n",
    "        activation='sigmoid',\n",
    "        input_shape=(28,28,1)))\n",
    "\n",
    "\n",
    "model.add(MaxPooling2D(pool_size =(2,2) , strides=(2,2)))\n",
    "\n",
    "model.add(Flatten())\n",
    "\n",
    "model.add(Dense(\n",
    "                 units=128,\n",
    "                 kernel_initializer = 'random_uniform', \n",
    "                 activation='sigmoid'))\n",
    "\n",
    "model.add(Dense(\n",
    "                 units=10,\n",
    "                 kernel_initializer = 'random_uniform', \n",
    "                 activation='sigmoid'))\n",
    "\n",
    "from keras.optimizers import SGD\n",
    "\n",
    "optimizer = SGD(lr=0.1)\n",
    "\n",
    "model.compile(optimizer = optimizer , \n",
    "             loss    = 'categorical_crossentropy' ,\n",
    "             metrics =['accuracy'])\n",
    "\n"
   ]
  },
  {
   "cell_type": "code",
   "execution_count": 75,
   "metadata": {},
   "outputs": [
    {
     "name": "stdout",
     "output_type": "stream",
     "text": [
      "Train on 60000 samples, validate on 10000 samples\n",
      "Epoch 1/30\n",
      "60000/60000 [==============================] - 18s 305us/step - loss: 2.3027 - acc: 0.1110 - val_loss: 2.3004 - val_acc: 0.1135\n",
      "Epoch 2/30\n",
      "60000/60000 [==============================] - 18s 296us/step - loss: 2.0344 - acc: 0.2670 - val_loss: 0.7826 - val_acc: 0.7656\n",
      "Epoch 3/30\n",
      "60000/60000 [==============================] - 18s 295us/step - loss: 0.4075 - acc: 0.8816 - val_loss: 0.2089 - val_acc: 0.9406\n",
      "Epoch 4/30\n",
      "60000/60000 [==============================] - 18s 300us/step - loss: 0.1929 - acc: 0.9424 - val_loss: 0.1681 - val_acc: 0.9475\n",
      "Epoch 5/30\n",
      "60000/60000 [==============================] - 18s 293us/step - loss: 0.1401 - acc: 0.9575 - val_loss: 0.1202 - val_acc: 0.9636\n",
      "Epoch 6/30\n",
      "60000/60000 [==============================] - 19s 315us/step - loss: 0.1150 - acc: 0.9644 - val_loss: 0.0927 - val_acc: 0.9712\n",
      "Epoch 7/30\n",
      "60000/60000 [==============================] - 17s 286us/step - loss: 0.1009 - acc: 0.9690 - val_loss: 0.0971 - val_acc: 0.9699\n",
      "Epoch 8/30\n",
      "60000/60000 [==============================] - 18s 304us/step - loss: 0.0960 - acc: 0.9707 - val_loss: 0.0850 - val_acc: 0.9729\n",
      "Epoch 9/30\n",
      "60000/60000 [==============================] - 18s 295us/step - loss: 0.0904 - acc: 0.9724 - val_loss: 0.0742 - val_acc: 0.9772\n",
      "Epoch 10/30\n",
      "60000/60000 [==============================] - 18s 304us/step - loss: 0.0811 - acc: 0.9754 - val_loss: 0.0746 - val_acc: 0.9766\n",
      "Epoch 11/30\n",
      "60000/60000 [==============================] - 17s 289us/step - loss: 0.0750 - acc: 0.9774 - val_loss: 0.0693 - val_acc: 0.9783\n",
      "Epoch 12/30\n",
      "60000/60000 [==============================] - 17s 286us/step - loss: 0.0721 - acc: 0.9781 - val_loss: 0.0650 - val_acc: 0.9803\n",
      "Epoch 13/30\n",
      "60000/60000 [==============================] - 19s 310us/step - loss: 0.0685 - acc: 0.9791 - val_loss: 0.0617 - val_acc: 0.9812\n",
      "Epoch 14/30\n",
      "60000/60000 [==============================] - 18s 301us/step - loss: 0.0651 - acc: 0.9801 - val_loss: 0.0593 - val_acc: 0.9822\n",
      "Epoch 15/30\n",
      "60000/60000 [==============================] - 19s 323us/step - loss: 0.0623 - acc: 0.9808 - val_loss: 0.0593 - val_acc: 0.9822\n",
      "Epoch 16/30\n",
      "60000/60000 [==============================] - 19s 313us/step - loss: 0.0585 - acc: 0.9818 - val_loss: 0.0593 - val_acc: 0.9812\n",
      "Epoch 17/30\n",
      "60000/60000 [==============================] - 19s 323us/step - loss: 0.0592 - acc: 0.9820 - val_loss: 0.0583 - val_acc: 0.9809\n",
      "Epoch 18/30\n",
      "60000/60000 [==============================] - 18s 299us/step - loss: 0.0575 - acc: 0.9823 - val_loss: 0.0520 - val_acc: 0.9831\n",
      "Epoch 19/30\n",
      "60000/60000 [==============================] - 18s 293us/step - loss: 0.0571 - acc: 0.9825 - val_loss: 0.0521 - val_acc: 0.9852\n",
      "Epoch 20/30\n",
      "60000/60000 [==============================] - 18s 294us/step - loss: 0.0517 - acc: 0.9839 - val_loss: 0.0522 - val_acc: 0.9840\n",
      "Epoch 21/30\n",
      "60000/60000 [==============================] - 18s 304us/step - loss: 0.0529 - acc: 0.9840 - val_loss: 0.0554 - val_acc: 0.9813\n",
      "Epoch 22/30\n",
      "60000/60000 [==============================] - 18s 295us/step - loss: 0.0521 - acc: 0.9835 - val_loss: 0.0537 - val_acc: 0.9842\n",
      "Epoch 23/30\n",
      "60000/60000 [==============================] - 19s 319us/step - loss: 0.0514 - acc: 0.9843 - val_loss: 0.0526 - val_acc: 0.9816\n",
      "Epoch 24/30\n",
      "60000/60000 [==============================] - 18s 293us/step - loss: 0.0518 - acc: 0.9842 - val_loss: 0.0512 - val_acc: 0.9841\n",
      "Epoch 25/30\n",
      "60000/60000 [==============================] - 17s 288us/step - loss: 0.0479 - acc: 0.9852 - val_loss: 0.0497 - val_acc: 0.9844\n",
      "Epoch 26/30\n",
      "60000/60000 [==============================] - 17s 289us/step - loss: 0.0467 - acc: 0.9859 - val_loss: 0.0524 - val_acc: 0.9835\n",
      "Epoch 27/30\n",
      "60000/60000 [==============================] - 17s 287us/step - loss: 0.0471 - acc: 0.9851 - val_loss: 0.0483 - val_acc: 0.9849\n",
      "Epoch 28/30\n",
      "60000/60000 [==============================] - 17s 284us/step - loss: 0.0443 - acc: 0.9864 - val_loss: 0.0507 - val_acc: 0.9835\n",
      "Epoch 29/30\n",
      "60000/60000 [==============================] - 17s 288us/step - loss: 0.0431 - acc: 0.9864 - val_loss: 0.0488 - val_acc: 0.9846\n",
      "Epoch 30/30\n",
      "60000/60000 [==============================] - 18s 295us/step - loss: 0.0434 - acc: 0.9863 - val_loss: 0.0474 - val_acc: 0.9847\n"
     ]
    },
    {
     "data": {
      "text/plain": [
       "<keras.callbacks.History at 0x1825caaac8>"
      ]
     },
     "execution_count": 75,
     "metadata": {},
     "output_type": "execute_result"
    }
   ],
   "source": [
    "model.fit(X_train , y_train_hot , epochs=30 , validation_data = (X_test , y_test_hot))"
   ]
  },
  {
   "cell_type": "code",
   "execution_count": null,
   "metadata": {
    "collapsed": true
   },
   "outputs": [],
   "source": []
  },
  {
   "cell_type": "code",
   "execution_count": null,
   "metadata": {
    "collapsed": true
   },
   "outputs": [],
   "source": []
  },
  {
   "cell_type": "code",
   "execution_count": null,
   "metadata": {
    "collapsed": true
   },
   "outputs": [],
   "source": []
  },
  {
   "cell_type": "code",
   "execution_count": null,
   "metadata": {
    "collapsed": true
   },
   "outputs": [],
   "source": []
  },
  {
   "cell_type": "code",
   "execution_count": null,
   "metadata": {
    "collapsed": true
   },
   "outputs": [],
   "source": []
  },
  {
   "cell_type": "code",
   "execution_count": null,
   "metadata": {
    "collapsed": true
   },
   "outputs": [],
   "source": []
  },
  {
   "cell_type": "code",
   "execution_count": null,
   "metadata": {
    "collapsed": true
   },
   "outputs": [],
   "source": []
  }
 ],
 "metadata": {
  "kernelspec": {
   "display_name": "Python 3",
   "language": "python",
   "name": "python3"
  },
  "language_info": {
   "codemirror_mode": {
    "name": "ipython",
    "version": 3
   },
   "file_extension": ".py",
   "mimetype": "text/x-python",
   "name": "python",
   "nbconvert_exporter": "python",
   "pygments_lexer": "ipython3",
   "version": "3.6.3"
  }
 },
 "nbformat": 4,
 "nbformat_minor": 2
}
