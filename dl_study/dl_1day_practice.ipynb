{
 "cells": [
  {
   "cell_type": "code",
   "execution_count": 123,
   "metadata": {
    "collapsed": true
   },
   "outputs": [],
   "source": [
    "import numpy as np"
   ]
  },
  {
   "cell_type": "markdown",
   "metadata": {},
   "source": [
    "## Generate Dataset"
   ]
  },
  {
   "cell_type": "code",
   "execution_count": 124,
   "metadata": {
    "collapsed": true
   },
   "outputs": [],
   "source": [
    "x1 = np.random.uniform(low=0.0 , high =1.0 , size = 100)\n",
    "x2 = np.random.uniform(low=0.0 , high =1.0 , size = 100)"
   ]
  },
  {
   "cell_type": "code",
   "execution_count": 125,
   "metadata": {},
   "outputs": [
    {
     "name": "stdout",
     "output_type": "stream",
     "text": [
      "(100,)\n"
     ]
    },
    {
     "data": {
      "text/plain": [
       "array([ 0.25971403,  0.69048858,  0.80453999,  0.66188883,  0.1956355 ,\n",
       "        0.66541457,  0.28645469,  0.36823842,  0.30459152,  0.53986457])"
      ]
     },
     "execution_count": 125,
     "metadata": {},
     "output_type": "execute_result"
    }
   ],
   "source": [
    "y = x1 * 0.3  + x2 * 0.5 + 0.1\n",
    "print(y.shape)\n",
    "\n",
    "y[0:10]"
   ]
  },
  {
   "cell_type": "markdown",
   "metadata": {},
   "source": [
    "## case1 - random search "
   ]
  },
  {
   "cell_type": "code",
   "execution_count": 126,
   "metadata": {},
   "outputs": [
    {
     "name": "stdout",
     "output_type": "stream",
     "text": [
      "  0 w1 = 0.20628, w2 = -0.77076,  b = -0.41729, error = 1.19411\n",
      "  1 w1 = 0.30577, w2 = 0.94395,  b = 0.69971, error = 0.82299\n",
      "  2 w1 = -0.65993, w2 = 0.82678,  b = 0.33987, error = 0.25122\n",
      " 23 w1 = 0.56407, w2 = -0.39978,  b = 0.43064, error = 0.23663\n",
      " 28 w1 = -0.48626, w2 = 0.08250,  b = 0.72847, error = 0.23474\n",
      " 29 w1 = -0.13058, w2 = 0.12003,  b = 0.45434, error = 0.15252\n",
      " 69 w1 = 0.05735, w2 = 0.98744,  b = -0.09438, error = 0.13430\n",
      "102 w1 = -0.14071, w2 = 0.77847,  b = 0.17457, error = 0.11943\n",
      "120 w1 = 0.25667, w2 = 0.24481,  b = 0.13328, error = 0.11560\n",
      "123 w1 = 0.59510, w2 = 0.30824,  b = 0.07347, error = 0.08109\n",
      "207 w1 = 0.46878, w2 = 0.29932,  b = 0.17175, error = 0.07276\n",
      "281 w1 = 0.17398, w2 = 0.65300,  b = 0.02807, error = 0.06485\n",
      "425 w1 = 0.40934, w2 = 0.37191,  b = 0.10788, error = 0.03752\n",
      "1378 w1 = 0.41725, w2 = 0.56919,  b = 0.00328, error = 0.03588\n",
      "1957 w1 = 0.35523, w2 = 0.60538,  b = 0.00201, error = 0.03491\n",
      "4236 w1 = 0.24669, w2 = 0.56322,  b = 0.08319, error = 0.02016\n",
      "12778 w1 = 0.24525, w2 = 0.48718,  b = 0.14337, error = 0.01689\n",
      "24128 w1 = 0.29991, w2 = 0.44231,  b = 0.13245, error = 0.01550\n",
      "42696 w1 = 0.31241, w2 = 0.51921,  b = 0.07083, error = 0.01357\n",
      "44717 w1 = 0.31732, w2 = 0.45029,  b = 0.12056, error = 0.01308\n",
      "------------------------------------------------------------------------------------------\n",
      "99999 w1 = 0.97828, w2 = 0.51802,  b = 0.77301, error = 1.01326\n"
     ]
    }
   ],
   "source": [
    "num_epoch = 100000\n",
    "\n",
    "best_w1 = None\n",
    "best_w2 = None\n",
    "best_b = None\n",
    "best_error = 9999\n",
    "best_epoch = None \n",
    "\n",
    "for epoch in range(num_epoch):\n",
    "    w1 = np.random.uniform(low=-1.0 , high = +1.0)\n",
    "    w2 = np.random.uniform(low=-1.0 , high = +1.0)\n",
    "    b  = np.random.uniform(low=-1.0 , high = +1.0)\n",
    "    \n",
    "    y_predict = x1*w1 + x2 * w2 + b\n",
    "    \n",
    "    error =  np.abs(y-y_predict).mean() \n",
    "    \n",
    "    if error < best_error:\n",
    "        best_w1 = w1 \n",
    "        best_w2 = w2\n",
    "        best_b  = b\n",
    "        best_error =  error\n",
    "        best_epoch = epoch\n",
    "        \n",
    "\n",
    "\n",
    "        print(\"{0:3} w1 = {1:.5f}, w2 = {2:.5f},  b = {3:.5f}, error = {4:.5f}\".format(epoch, w1,w2,b, error ));\n",
    "print(\"------\" * 15 )\n",
    "print(\"{0:3} w1 = {1:.5f}, w2 = {2:.5f},  b = {3:.5f}, error = {4:.5f}\".format(epoch, w1,w2,b, error ));\n",
    "\n",
    "     \n",
    "    "
   ]
  },
  {
   "cell_type": "markdown",
   "metadata": {},
   "source": [
    "## case2  h-step search \n"
   ]
  },
  {
   "cell_type": "code",
   "execution_count": 127,
   "metadata": {},
   "outputs": [],
   "source": [
    "# num_epoch = 100\n",
    "# h = 0.01 \n",
    "# #w = 0.0\n",
    "# w = np.random.uniform(low = -1.0 , high = 1.0 )\n",
    "\n",
    "# for epoch in range(num_epoch):\n",
    "#     y_predict = x * w \n",
    "#     current_error = np.abs(y - y_predict).mean()\n",
    "    \n",
    "#     print(\"{0:3} w = {1:.5f}, error = {2:.5f}\".format(epoch, w, current_error));\n",
    "    \n",
    "#     y_predict = x * (w + h)\n",
    "#     h_plus_error = np.abs( y - y_predict).mean()\n",
    "#     if h_plus_error < current_error:\n",
    "#         w = h+ w \n",
    "#         continue\n",
    "    \n",
    "#     y_predict = x * (w - h)\n",
    "#     h_minus_error = np.abs( y - y_predict).mean()\n",
    "#     if h_minus_error < current_error:\n",
    "#         w = h - w \n",
    "#         continue \n",
    "    \n",
    "#     break\n",
    "\n",
    "# print(\"--------\" * 10)\n",
    "# print(\"{0:3} w = {1:.5f}, error = {2:.5f}\".format(epoch, w, current_error));\n",
    "    \n",
    "    \n",
    "    \n",
    "    "
   ]
  },
  {
   "cell_type": "markdown",
   "metadata": {},
   "source": [
    "## Gradient Descent ( not yet )  "
   ]
  },
  {
   "cell_type": "code",
   "execution_count": 138,
   "metadata": {},
   "outputs": [
    {
     "name": "stdout",
     "output_type": "stream",
     "text": [
      "  0 w1 = 0.42317, w2 = 0.94346, b = 0.78190 , error = 0.94346\n",
      "  1 w1 = -0.11100, w2 = 0.37174, b = -0.27660 , error = 0.37174\n",
      "  2 w1 = 0.27503, w2 = 0.73957, b = 0.42855 , error = 0.73957\n",
      "  3 w1 = 0.04081, w2 = 0.47794, b = -0.05031 , error = 0.47794\n",
      "  4 w1 = 0.22104, w2 = 0.64040, b = 0.26634 , error = 0.64040\n",
      "  5 w1 = 0.12101, w2 = 0.51930, b = 0.04910 , error = 0.51930\n",
      "  6 w1 = 0.20744, w2 = 0.58974, b = 0.19072 , error = 0.58974\n",
      "  7 w1 = 0.16704, w2 = 0.53257, b = 0.09164 , error = 0.53257\n",
      "  8 w1 = 0.21034, w2 = 0.56204, b = 0.15448 , error = 0.56204\n",
      "  9 w1 = 0.19609, w2 = 0.53416, b = 0.10884 , error = 0.53416\n",
      " 10 w1 = 0.21925, w2 = 0.54555, b = 0.13629 , error = 0.54555\n",
      " 11 w1 = 0.21615, w2 = 0.53126, b = 0.11488 , error = 0.53126\n",
      " 12 w1 = 0.22964, w2 = 0.53485, b = 0.12649 , error = 0.53485\n",
      " 13 w1 = 0.23104, w2 = 0.52700, b = 0.11612 , error = 0.52700\n",
      " 14 w1 = 0.23970, w2 = 0.52735, b = 0.12069 , error = 0.52735\n",
      " 15 w1 = 0.24268, w2 = 0.52266, b = 0.11539 , error = 0.52266\n",
      " 16 w1 = 0.24874, w2 = 0.52178, b = 0.11688 , error = 0.52178\n",
      " 17 w1 = 0.25207, w2 = 0.51873, b = 0.11396 , error = 0.51873\n",
      " 18 w1 = 0.25662, w2 = 0.51748, b = 0.11413 , error = 0.51748\n",
      " 19 w1 = 0.25978, w2 = 0.51534, b = 0.11235 , error = 0.51534\n",
      " 20 w1 = 0.26336, w2 = 0.51408, b = 0.11200 , error = 0.51408\n",
      " 21 w1 = 0.26619, w2 = 0.51249, b = 0.11080 , error = 0.51249\n",
      " 22 w1 = 0.26908, w2 = 0.51136, b = 0.11027 , error = 0.51136\n",
      " 23 w1 = 0.27154, w2 = 0.51013, b = 0.10938 , error = 0.51013\n",
      " 24 w1 = 0.27393, w2 = 0.50916, b = 0.10882 , error = 0.50916\n",
      " 25 w1 = 0.27603, w2 = 0.50820, b = 0.10812 , error = 0.50820\n",
      " 26 w1 = 0.27801, w2 = 0.50738, b = 0.10759 , error = 0.50738\n",
      " 27 w1 = 0.27979, w2 = 0.50661, b = 0.10702 , error = 0.50661\n",
      " 28 w1 = 0.28146, w2 = 0.50594, b = 0.10654 , error = 0.50594\n",
      "------------------------------------------------------------------------------------------\n",
      " 29 w1 = 0.28146, w2 = 0.50594, b = 0.10654 , error = 0.50594\n"
     ]
    }
   ],
   "source": [
    "num_epoch = 10000\n",
    "#h = 0.01 \n",
    "learning_rate = 1.1\n",
    "\n",
    "\n",
    "w1 = np.random.uniform(low = -1.0 , high = 1.0 )\n",
    "w2 = np.random.uniform(low = -1.0 , high = 1.0 )\n",
    "b  = np.random.uniform(low = -1.0 , high = 1.0 )\n",
    "\n",
    "#w1 = 0.1\n",
    "#w2 = 0.2 \n",
    "#b = 0.3\n",
    "\n",
    "for epoch in range(num_epoch):\n",
    "    \n",
    "    y_predict = x1 * w1 + x2 * w2 + b \n",
    "    \n",
    "    error = np.abs( y - y_predict).mean()\n",
    "    if error < 0.005:\n",
    "        break\n",
    "        \n",
    "#     w1 = w1 - (( y_predict - y)* x1).mean() ## 같은 y를 반영시킬 경우 변화량이 차이날 수 있다. \n",
    "#     w2 = w2 - (( y_predict - y)* x2).mean() ## 그래서 영향력을 줄 수 있는 x를 별도로 반영\n",
    "#     b = b -  (y_predict - y).mean()\n",
    "    w1 = w1 - learning_rate * (( y_predict - y)* x1).mean()\n",
    "    w2 = w2 - learning_rate * (( y_predict - y)* x2).mean()\n",
    "    b = b -  learning_rate * (y_predict - y).mean()\n",
    "    \n",
    "    print(\"{0:3} w1 = {1:.5f}, w2 = {2:.5f}, b = {3:.5f} , error = {2:.5f}\".format(epoch, w1, w2,b, error)); \n",
    "    \n",
    "print(\"------\" * 15 )\n",
    "print(\"{0:3} w1 = {1:.5f}, w2 = {2:.5f}, b = {3:.5f} , error = {2:.5f}\".format(epoch, w1, w2,b, error)); \n",
    "    "
   ]
  },
  {
   "cell_type": "markdown",
   "metadata": {},
   "source": [
    "## 주요 지표 \n",
    " 1.ML \n",
    " \n",
    " \t1) Supervied Learning\n",
    " \t\t(1) x, y ( feature , label )\n",
    " \t\t\t: 1:1로 데이터가 mapping되어 있어야 가능 \n",
    " \t2) Unsupervied Learning\n",
    " \t\t(1) x ( feature )\n",
    " \t3) Reinforcement Learning\n",
    "\n",
    "\n",
    "x = feature\n",
    "y = label \n",
    "w = weight \n",
    "n = number of data \n",
    "h(x) = w * x \n"
   ]
  },
  {
   "cell_type": "code",
   "execution_count": null,
   "metadata": {
    "collapsed": true
   },
   "outputs": [],
   "source": []
  },
  {
   "cell_type": "code",
   "execution_count": null,
   "metadata": {
    "collapsed": true
   },
   "outputs": [],
   "source": []
  }
 ],
 "metadata": {
  "kernelspec": {
   "display_name": "Python 3",
   "language": "python",
   "name": "python3"
  },
  "language_info": {
   "codemirror_mode": {
    "name": "ipython",
    "version": 3
   },
   "file_extension": ".py",
   "mimetype": "text/x-python",
   "name": "python",
   "nbconvert_exporter": "python",
   "pygments_lexer": "ipython3",
   "version": "3.6.3"
  }
 },
 "nbformat": 4,
 "nbformat_minor": 2
}
